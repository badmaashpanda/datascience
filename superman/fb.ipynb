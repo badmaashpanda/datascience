{
 "cells": [
  {
   "cell_type": "code",
   "execution_count": 1,
   "metadata": {
    "ExecuteTime": {
     "end_time": "2024-11-01T17:08:35.746472Z",
     "start_time": "2024-11-01T17:08:35.744695Z"
    }
   },
   "outputs": [],
   "source": [
    "import pandas as pd\n",
    "import numpy as np\n",
    "import seaborn as sns\n",
    "import matplotlib.pyplot as plt"
   ]
  },
  {
   "cell_type": "code",
   "execution_count": 2,
   "metadata": {
    "ExecuteTime": {
     "end_time": "2024-11-01T17:08:36.253526Z",
     "start_time": "2024-11-01T17:08:36.250239Z"
    }
   },
   "outputs": [
    {
     "name": "stdout",
     "output_type": "stream",
     "text": [
      "30\n"
     ]
    }
   ],
   "source": [
    "def fun(n):\n",
    "  return lambda x : x * n\n",
    "\n",
    "result = fun(2)\n",
    "print(result(15))\n"
   ]
  },
  {
   "cell_type": "code",
   "execution_count": 3,
   "metadata": {
    "ExecuteTime": {
     "end_time": "2024-11-01T17:08:37.159926Z",
     "start_time": "2024-11-01T17:08:37.157224Z"
    }
   },
   "outputs": [],
   "source": [
    "subject_marks = [('English', 88), ('Science', 90), ('Maths', 97), ('Social sciences', 82)]"
   ]
  },
  {
   "cell_type": "code",
   "execution_count": 4,
   "metadata": {
    "ExecuteTime": {
     "end_time": "2024-11-01T17:08:37.547232Z",
     "start_time": "2024-11-01T17:08:37.545173Z"
    }
   },
   "outputs": [],
   "source": [
    "subject_marks.sort(key=lambda x : x[1])"
   ]
  },
  {
   "cell_type": "code",
   "execution_count": 5,
   "metadata": {
    "ExecuteTime": {
     "end_time": "2024-11-01T17:08:38.179379Z",
     "start_time": "2024-11-01T17:08:38.175188Z"
    }
   },
   "outputs": [
    {
     "data": {
      "text/plain": "[('Social sciences', 82), ('English', 88), ('Science', 90), ('Maths', 97)]"
     },
     "execution_count": 5,
     "metadata": {},
     "output_type": "execute_result"
    }
   ],
   "source": [
    "subject_marks"
   ]
  },
  {
   "cell_type": "code",
   "execution_count": 6,
   "metadata": {
    "ExecuteTime": {
     "end_time": "2024-11-01T17:08:38.815605Z",
     "start_time": "2024-11-01T17:08:38.813452Z"
    }
   },
   "outputs": [],
   "source": [
    "one = [1,1,4,5,6,7,2]\n"
   ]
  },
  {
   "cell_type": "code",
   "execution_count": 7,
   "metadata": {
    "ExecuteTime": {
     "end_time": "2024-11-01T17:08:39.235098Z",
     "start_time": "2024-11-01T17:08:39.232926Z"
    }
   },
   "outputs": [],
   "source": [
    "one.sort()"
   ]
  },
  {
   "cell_type": "code",
   "execution_count": 8,
   "metadata": {
    "ExecuteTime": {
     "end_time": "2024-11-01T17:08:39.516341Z",
     "start_time": "2024-11-01T17:08:39.512969Z"
    }
   },
   "outputs": [
    {
     "data": {
      "text/plain": "[1, 1, 2, 4, 5, 6, 7]"
     },
     "execution_count": 8,
     "metadata": {},
     "output_type": "execute_result"
    }
   ],
   "source": [
    "one"
   ]
  },
  {
   "cell_type": "code",
   "execution_count": 9,
   "metadata": {
    "ExecuteTime": {
     "end_time": "2024-11-01T17:08:39.681409Z",
     "start_time": "2024-11-01T17:08:39.679190Z"
    }
   },
   "outputs": [],
   "source": [
    "nums = [1, 2, 3, 4, 5, 6, 7, 8, 9, 10]"
   ]
  },
  {
   "cell_type": "code",
   "execution_count": 10,
   "metadata": {
    "ExecuteTime": {
     "end_time": "2024-11-01T17:08:39.890775Z",
     "start_time": "2024-11-01T17:08:39.887147Z"
    }
   },
   "outputs": [
    {
     "data": {
      "text/plain": "[1, 4, 9]"
     },
     "execution_count": 10,
     "metadata": {},
     "output_type": "execute_result"
    }
   ],
   "source": [
    "list(map(lambda x : x ** 2,[1,2,3]))"
   ]
  },
  {
   "cell_type": "code",
   "execution_count": 11,
   "metadata": {
    "ExecuteTime": {
     "end_time": "2024-11-01T17:08:40.434864Z",
     "start_time": "2024-11-01T17:08:40.432846Z"
    }
   },
   "outputs": [],
   "source": [
    "result = lambda x,y: x + y"
   ]
  },
  {
   "cell_type": "code",
   "execution_count": 12,
   "metadata": {
    "ExecuteTime": {
     "end_time": "2024-11-01T17:08:40.779026Z",
     "start_time": "2024-11-01T17:08:40.775818Z"
    }
   },
   "outputs": [
    {
     "data": {
      "text/plain": "25"
     },
     "execution_count": 12,
     "metadata": {},
     "output_type": "execute_result"
    }
   ],
   "source": [
    "result(10,15)"
   ]
  },
  {
   "cell_type": "code",
   "execution_count": 13,
   "metadata": {
    "ExecuteTime": {
     "end_time": "2024-11-01T17:08:41.022010Z",
     "start_time": "2024-11-01T17:08:41.019698Z"
    }
   },
   "outputs": [],
   "source": [
    "def t(str,n):\n",
    "    if str[0] == n:\n",
    "        return True\n",
    "    else:\n",
    "        return False"
   ]
  },
  {
   "cell_type": "code",
   "execution_count": 14,
   "metadata": {
    "ExecuteTime": {
     "end_time": "2024-11-01T17:08:41.411552Z",
     "start_time": "2024-11-01T17:08:41.408926Z"
    }
   },
   "outputs": [
    {
     "data": {
      "text/plain": "True"
     },
     "execution_count": 14,
     "metadata": {},
     "output_type": "execute_result"
    }
   ],
   "source": [
    "t('Shubham','S')"
   ]
  },
  {
   "cell_type": "code",
   "execution_count": 15,
   "metadata": {
    "ExecuteTime": {
     "end_time": "2024-11-01T17:08:41.673020Z",
     "start_time": "2024-11-01T17:08:41.670391Z"
    }
   },
   "outputs": [],
   "source": [
    "result = lambda x : True if x[0] == 'P' else False"
   ]
  },
  {
   "cell_type": "code",
   "execution_count": 16,
   "metadata": {
    "ExecuteTime": {
     "end_time": "2024-11-01T17:08:41.888092Z",
     "start_time": "2024-11-01T17:08:41.880865Z"
    }
   },
   "outputs": [
    {
     "data": {
      "text/plain": "True"
     },
     "execution_count": 16,
     "metadata": {},
     "output_type": "execute_result"
    }
   ],
   "source": [
    "result('Pu')"
   ]
  },
  {
   "cell_type": "code",
   "execution_count": 17,
   "metadata": {
    "ExecuteTime": {
     "end_time": "2024-11-01T17:08:42.081480Z",
     "start_time": "2024-11-01T17:08:42.077753Z"
    }
   },
   "outputs": [
    {
     "name": "stdout",
     "output_type": "stream",
     "text": [
      "2024-11-01 10:08:42.079295\n",
      "2024\n",
      "11\n",
      "1\n",
      "10:08:42.079295\n"
     ]
    }
   ],
   "source": [
    "import datetime\n",
    "now = datetime.datetime.now()\n",
    "print(now)\n",
    "year = lambda x: x.year\n",
    "month = lambda x: x.month\n",
    "day = lambda x: x.day\n",
    "t = lambda x: x.time()\n",
    "print(year(now))\n",
    "print(month(now))\n",
    "print(day(now))\n",
    "print(t(now))"
   ]
  },
  {
   "cell_type": "code",
   "execution_count": 18,
   "metadata": {
    "ExecuteTime": {
     "end_time": "2024-11-01T17:08:42.279984Z",
     "start_time": "2024-11-01T17:08:42.277043Z"
    }
   },
   "outputs": [
    {
     "data": {
      "text/plain": "2024"
     },
     "execution_count": 18,
     "metadata": {},
     "output_type": "execute_result"
    }
   ],
   "source": [
    "now.year"
   ]
  },
  {
   "cell_type": "code",
   "execution_count": 19,
   "metadata": {
    "ExecuteTime": {
     "end_time": "2024-11-01T17:08:42.621718Z",
     "start_time": "2024-11-01T17:08:42.619866Z"
    }
   },
   "outputs": [],
   "source": [
    "import datetime\n",
    "now=datetime.datetime.now()"
   ]
  },
  {
   "cell_type": "code",
   "execution_count": 20,
   "metadata": {
    "ExecuteTime": {
     "end_time": "2024-11-01T17:08:42.881478Z",
     "start_time": "2024-11-01T17:08:42.878959Z"
    }
   },
   "outputs": [],
   "source": [
    "year = lambda x : x.year"
   ]
  },
  {
   "cell_type": "code",
   "execution_count": 21,
   "metadata": {
    "ExecuteTime": {
     "end_time": "2024-11-01T17:08:43.133204Z",
     "start_time": "2024-11-01T17:08:43.130361Z"
    }
   },
   "outputs": [
    {
     "data": {
      "text/plain": "2024"
     },
     "execution_count": 21,
     "metadata": {},
     "output_type": "execute_result"
    }
   ],
   "source": [
    "year(now)"
   ]
  },
  {
   "cell_type": "code",
   "execution_count": 22,
   "metadata": {
    "ExecuteTime": {
     "end_time": "2024-11-01T17:08:43.373299Z",
     "start_time": "2024-11-01T17:08:43.370609Z"
    }
   },
   "outputs": [],
   "source": [
    "list1 = [1,2,3,4,5,6,7,8]"
   ]
  },
  {
   "cell_type": "code",
   "execution_count": 23,
   "metadata": {
    "ExecuteTime": {
     "end_time": "2024-11-01T17:08:43.602355Z",
     "start_time": "2024-11-01T17:08:43.599739Z"
    }
   },
   "outputs": [
    {
     "data": {
      "text/plain": "[1, 2, 3, 4, 5, 6, 7, 8]"
     },
     "execution_count": 23,
     "metadata": {},
     "output_type": "execute_result"
    }
   ],
   "source": [
    "list1"
   ]
  },
  {
   "cell_type": "code",
   "execution_count": 24,
   "metadata": {
    "ExecuteTime": {
     "end_time": "2024-11-01T17:08:43.808742Z",
     "start_time": "2024-11-01T17:08:43.806228Z"
    }
   },
   "outputs": [],
   "source": [
    "even =  list(filter(lambda x: x%2 == 0, nums))"
   ]
  },
  {
   "cell_type": "code",
   "execution_count": 25,
   "metadata": {
    "ExecuteTime": {
     "end_time": "2024-11-01T17:08:44.316605Z",
     "start_time": "2024-11-01T17:08:44.312830Z"
    }
   },
   "outputs": [
    {
     "name": "stdout",
     "output_type": "stream",
     "text": [
      "[2, 4, 6, 8, 10]\n"
     ]
    }
   ],
   "source": [
    "print(even)"
   ]
  },
  {
   "cell_type": "code",
   "execution_count": 25,
   "metadata": {
    "ExecuteTime": {
     "end_time": "2024-11-01T17:08:44.644434Z",
     "start_time": "2024-11-01T17:08:44.642624Z"
    }
   },
   "outputs": [],
   "source": []
  },
  {
   "cell_type": "code",
   "outputs": [],
   "source": [],
   "metadata": {
    "collapsed": false
   }
  }
 ],
 "metadata": {
  "interpreter": {
   "hash": "aee8b7b246df8f9039afb4144a1f6fd8d2ca17a180786b69acc140d282b71a49"
  },
  "kernelspec": {
   "display_name": "Python 3.9.10 64-bit",
   "language": "python",
   "name": "python3"
  },
  "language_info": {
   "codemirror_mode": {
    "name": "ipython",
    "version": 3
   },
   "file_extension": ".py",
   "mimetype": "text/x-python",
   "name": "python",
   "nbconvert_exporter": "python",
   "pygments_lexer": "ipython3",
   "version": "3.9.10"
  },
  "orig_nbformat": 4
 },
 "nbformat": 4,
 "nbformat_minor": 2
}
