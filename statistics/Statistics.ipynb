{
 "cells": [
  {
   "cell_type": "markdown",
   "metadata": {},
   "source": [
    "# Statistics\n",
    "\n",
    "### Descriptive Statistics\n",
    "\n",
    "- Measure of Frequency and Central Tendency\n",
    "- Measure of Dispersion\n",
    "- Probability Distribution\n",
    "- Gaussian Normal Distribution\n",
    "- Skewness and Kurtosis\n",
    "- Regression Analysis\n",
    "- Continuous and Discrete Functions\n",
    "- Goodness of Fit\n",
    "- Normality Test\n",
    "- ANOVA\n",
    "- Homoscedasticity\n",
    "- Linear and Non-Linear Relationship with Regression\n",
    "\n",
    "# Statistical Models\n",
    "\n",
    "### Inferential Statistics\n",
    "\n",
    "- t-Test\n",
    "- z-Test\n",
    "- Hypothesis Testing\n",
    "- Type I and Type II errors\n",
    "- t-Test and its types\n",
    "- One way ANOVA\n",
    "- Two way ANOVA\n",
    "- Chi-Square Test\n",
    "- Implementation of continuous and categorical data"
   ]
  },
  {
   "attachments": {},
   "cell_type": "markdown",
   "metadata": {},
   "source": [
    "### Sample V Population\n"
   ]
  },
  {
   "attachments": {},
   "cell_type": "markdown",
   "metadata": {},
   "source": [
    "| Sample / Statistic | Metric  | Population / Parameter |\n",
    "| --- | --- | --- |\n",
    "| $\\hat X$ | Mean | $ \\mu $ |\n",
    "| $ s $ | Standard Deviation | $ \\sigma $ |\n",
    "| $ s^2 $ | Variance | $ \\sigma^2 $ |\n",
    "| $ \\hat p $ | Proportion | $ P $ |\n",
    "| $ n $ | Size | $ N $ |"
   ]
  }
 ],
 "metadata": {
  "kernelspec": {
   "display_name": "Python 3",
   "language": "python",
   "name": "python3"
  },
  "language_info": {
   "codemirror_mode": {
    "name": "ipython",
    "version": 3
   },
   "file_extension": ".py",
   "mimetype": "text/x-python",
   "name": "python",
   "nbconvert_exporter": "python",
   "pygments_lexer": "ipython3",
   "version": "3.11.2"
  },
  "orig_nbformat": 4,
  "vscode": {
   "interpreter": {
    "hash": "aee8b7b246df8f9039afb4144a1f6fd8d2ca17a180786b69acc140d282b71a49"
   }
  }
 },
 "nbformat": 4,
 "nbformat_minor": 2
}
