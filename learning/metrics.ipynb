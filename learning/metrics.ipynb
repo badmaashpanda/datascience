{
 "cells": [
  {
   "metadata": {
    "ExecuteTime": {
     "end_time": "2025-04-23T13:54:24.309093Z",
     "start_time": "2025-04-23T13:54:24.306601Z"
    }
   },
   "cell_type": "code",
   "source": [
    "from sklearn.datasets import make_classification\n",
    "import pandas as pd\n",
    "from sklearn.linear_model import LogisticRegression\n",
    "from sklearn.model_selection import train_test_split\n",
    "from sklearn.metrics import f1_score, precision_recall_curve\n",
    "import numpy as np\n",
    "import matplotlib.pyplot as plt\n",
    "from sklearn.metrics import precision_score, recall_score, f1_score, confusion_matrix, average_precision_score"
   ],
   "id": "ce353b0719eea359",
   "outputs": [],
   "execution_count": 16
  },
  {
   "cell_type": "code",
   "id": "initial_id",
   "metadata": {
    "collapsed": true,
    "ExecuteTime": {
     "end_time": "2025-04-23T13:47:24.602433Z",
     "start_time": "2025-04-23T13:47:24.598626Z"
    }
   },
   "source": [
    "# Create a sample dataset with imbalanced classes (spam detection is often imbalanced)\n",
    "X, y = make_classification(n_samples=1000, n_features=20, n_informative=2,\n",
    "                           n_redundant=10, n_clusters_per_class=1,\n",
    "                           weights=[0.9, 0.1], flip_y=0, random_state=42)\n",
    "\n",
    "# Convert to DataFrame for easier handling\n",
    "df = pd.DataFrame(X, columns=[f'feature_{i}' for i in range(X.shape[1])])\n",
    "df['label'] = y"
   ],
   "outputs": [],
   "execution_count": 2
  },
  {
   "metadata": {
    "ExecuteTime": {
     "end_time": "2025-04-23T13:47:25.194105Z",
     "start_time": "2025-04-23T13:47:25.186200Z"
    }
   },
   "cell_type": "code",
   "source": "df.head()",
   "id": "7ded7bd341d736fd",
   "outputs": [
    {
     "data": {
      "text/plain": [
       "   feature_0  feature_1  feature_2  feature_3  feature_4  feature_5  \\\n",
       "0  -0.429244  -2.211862   0.189756   0.588553   0.820374  -0.180392   \n",
       "1  -0.045512  -2.084113  -3.189191  -0.424236  -2.472718   0.508269   \n",
       "2   0.252195   1.617045   1.565132  -1.970309   2.048682   0.509295   \n",
       "3   1.725694  -0.516117   2.210866   0.121844   2.667175  -1.059212   \n",
       "4  -0.749416   1.106232  -0.664455   0.337766  -0.054664   0.552905   \n",
       "\n",
       "   feature_6  feature_7  feature_8  feature_9  ...  feature_11  feature_12  \\\n",
       "0  -1.150654   1.471709   0.701585  -0.833474  ...    0.702818   -0.225999   \n",
       "1  -2.850971   0.911854   0.472527  -1.210002  ...   -2.126279    1.908717   \n",
       "2  -0.238676   1.445465   0.673300  -0.529416  ...    1.758406   -1.076195   \n",
       "3   0.107509   1.527901   0.705332  -0.442889  ...    2.289787   -1.482342   \n",
       "4  -1.497095   1.233776   0.597581  -0.871460  ...   -0.048795    0.320768   \n",
       "\n",
       "   feature_13  feature_14  feature_15  feature_16  feature_17  feature_18  \\\n",
       "0    1.533434    1.372848    0.673782    0.742188    0.944224   -0.266652   \n",
       "1    1.724697    3.926238    0.736881    3.447367    2.551819    0.287329   \n",
       "2   -0.770425   -0.616071    0.528587   -0.516697    0.107330    0.184859   \n",
       "3    2.124556   -0.500261    0.504980   -1.048914   -0.217528   -0.179620   \n",
       "4    0.200699   -0.936592    0.644399    1.366224    1.281389   -0.344477   \n",
       "\n",
       "   feature_19  label  \n",
       "0    1.401753      0  \n",
       "1   -0.842841      0  \n",
       "2    2.090307      0  \n",
       "3    2.497511      0  \n",
       "4    0.748926      0  \n",
       "\n",
       "[5 rows x 21 columns]"
      ],
      "text/html": [
       "<div>\n",
       "<style scoped>\n",
       "    .dataframe tbody tr th:only-of-type {\n",
       "        vertical-align: middle;\n",
       "    }\n",
       "\n",
       "    .dataframe tbody tr th {\n",
       "        vertical-align: top;\n",
       "    }\n",
       "\n",
       "    .dataframe thead th {\n",
       "        text-align: right;\n",
       "    }\n",
       "</style>\n",
       "<table border=\"1\" class=\"dataframe\">\n",
       "  <thead>\n",
       "    <tr style=\"text-align: right;\">\n",
       "      <th></th>\n",
       "      <th>feature_0</th>\n",
       "      <th>feature_1</th>\n",
       "      <th>feature_2</th>\n",
       "      <th>feature_3</th>\n",
       "      <th>feature_4</th>\n",
       "      <th>feature_5</th>\n",
       "      <th>feature_6</th>\n",
       "      <th>feature_7</th>\n",
       "      <th>feature_8</th>\n",
       "      <th>feature_9</th>\n",
       "      <th>...</th>\n",
       "      <th>feature_11</th>\n",
       "      <th>feature_12</th>\n",
       "      <th>feature_13</th>\n",
       "      <th>feature_14</th>\n",
       "      <th>feature_15</th>\n",
       "      <th>feature_16</th>\n",
       "      <th>feature_17</th>\n",
       "      <th>feature_18</th>\n",
       "      <th>feature_19</th>\n",
       "      <th>label</th>\n",
       "    </tr>\n",
       "  </thead>\n",
       "  <tbody>\n",
       "    <tr>\n",
       "      <th>0</th>\n",
       "      <td>-0.429244</td>\n",
       "      <td>-2.211862</td>\n",
       "      <td>0.189756</td>\n",
       "      <td>0.588553</td>\n",
       "      <td>0.820374</td>\n",
       "      <td>-0.180392</td>\n",
       "      <td>-1.150654</td>\n",
       "      <td>1.471709</td>\n",
       "      <td>0.701585</td>\n",
       "      <td>-0.833474</td>\n",
       "      <td>...</td>\n",
       "      <td>0.702818</td>\n",
       "      <td>-0.225999</td>\n",
       "      <td>1.533434</td>\n",
       "      <td>1.372848</td>\n",
       "      <td>0.673782</td>\n",
       "      <td>0.742188</td>\n",
       "      <td>0.944224</td>\n",
       "      <td>-0.266652</td>\n",
       "      <td>1.401753</td>\n",
       "      <td>0</td>\n",
       "    </tr>\n",
       "    <tr>\n",
       "      <th>1</th>\n",
       "      <td>-0.045512</td>\n",
       "      <td>-2.084113</td>\n",
       "      <td>-3.189191</td>\n",
       "      <td>-0.424236</td>\n",
       "      <td>-2.472718</td>\n",
       "      <td>0.508269</td>\n",
       "      <td>-2.850971</td>\n",
       "      <td>0.911854</td>\n",
       "      <td>0.472527</td>\n",
       "      <td>-1.210002</td>\n",
       "      <td>...</td>\n",
       "      <td>-2.126279</td>\n",
       "      <td>1.908717</td>\n",
       "      <td>1.724697</td>\n",
       "      <td>3.926238</td>\n",
       "      <td>0.736881</td>\n",
       "      <td>3.447367</td>\n",
       "      <td>2.551819</td>\n",
       "      <td>0.287329</td>\n",
       "      <td>-0.842841</td>\n",
       "      <td>0</td>\n",
       "    </tr>\n",
       "    <tr>\n",
       "      <th>2</th>\n",
       "      <td>0.252195</td>\n",
       "      <td>1.617045</td>\n",
       "      <td>1.565132</td>\n",
       "      <td>-1.970309</td>\n",
       "      <td>2.048682</td>\n",
       "      <td>0.509295</td>\n",
       "      <td>-0.238676</td>\n",
       "      <td>1.445465</td>\n",
       "      <td>0.673300</td>\n",
       "      <td>-0.529416</td>\n",
       "      <td>...</td>\n",
       "      <td>1.758406</td>\n",
       "      <td>-1.076195</td>\n",
       "      <td>-0.770425</td>\n",
       "      <td>-0.616071</td>\n",
       "      <td>0.528587</td>\n",
       "      <td>-0.516697</td>\n",
       "      <td>0.107330</td>\n",
       "      <td>0.184859</td>\n",
       "      <td>2.090307</td>\n",
       "      <td>0</td>\n",
       "    </tr>\n",
       "    <tr>\n",
       "      <th>3</th>\n",
       "      <td>1.725694</td>\n",
       "      <td>-0.516117</td>\n",
       "      <td>2.210866</td>\n",
       "      <td>0.121844</td>\n",
       "      <td>2.667175</td>\n",
       "      <td>-1.059212</td>\n",
       "      <td>0.107509</td>\n",
       "      <td>1.527901</td>\n",
       "      <td>0.705332</td>\n",
       "      <td>-0.442889</td>\n",
       "      <td>...</td>\n",
       "      <td>2.289787</td>\n",
       "      <td>-1.482342</td>\n",
       "      <td>2.124556</td>\n",
       "      <td>-0.500261</td>\n",
       "      <td>0.504980</td>\n",
       "      <td>-1.048914</td>\n",
       "      <td>-0.217528</td>\n",
       "      <td>-0.179620</td>\n",
       "      <td>2.497511</td>\n",
       "      <td>0</td>\n",
       "    </tr>\n",
       "    <tr>\n",
       "      <th>4</th>\n",
       "      <td>-0.749416</td>\n",
       "      <td>1.106232</td>\n",
       "      <td>-0.664455</td>\n",
       "      <td>0.337766</td>\n",
       "      <td>-0.054664</td>\n",
       "      <td>0.552905</td>\n",
       "      <td>-1.497095</td>\n",
       "      <td>1.233776</td>\n",
       "      <td>0.597581</td>\n",
       "      <td>-0.871460</td>\n",
       "      <td>...</td>\n",
       "      <td>-0.048795</td>\n",
       "      <td>0.320768</td>\n",
       "      <td>0.200699</td>\n",
       "      <td>-0.936592</td>\n",
       "      <td>0.644399</td>\n",
       "      <td>1.366224</td>\n",
       "      <td>1.281389</td>\n",
       "      <td>-0.344477</td>\n",
       "      <td>0.748926</td>\n",
       "      <td>0</td>\n",
       "    </tr>\n",
       "  </tbody>\n",
       "</table>\n",
       "<p>5 rows × 21 columns</p>\n",
       "</div>"
      ]
     },
     "execution_count": 3,
     "metadata": {},
     "output_type": "execute_result"
    }
   ],
   "execution_count": 3
  },
  {
   "metadata": {
    "ExecuteTime": {
     "end_time": "2025-04-23T13:47:26.302388Z",
     "start_time": "2025-04-23T13:47:26.298524Z"
    }
   },
   "cell_type": "code",
   "source": "df['label'].value_counts()",
   "id": "95798501a7a6e079",
   "outputs": [
    {
     "data": {
      "text/plain": [
       "label\n",
       "0    900\n",
       "1    100\n",
       "Name: count, dtype: int64"
      ]
     },
     "execution_count": 4,
     "metadata": {},
     "output_type": "execute_result"
    }
   ],
   "execution_count": 4
  },
  {
   "metadata": {
    "ExecuteTime": {
     "end_time": "2025-04-23T13:47:27.562878Z",
     "start_time": "2025-04-23T13:47:27.557906Z"
    }
   },
   "cell_type": "code",
   "source": [
    "# Split dataset into train and validation sets\n",
    "X = df.drop(columns=['label'])\n",
    "y = df['label']\n",
    "X_train, X_val, y_train, y_val = train_test_split(X, y, test_size=0.3, random_state=42, stratify=y)"
   ],
   "id": "53dd453eb94dc65",
   "outputs": [],
   "execution_count": 5
  },
  {
   "metadata": {
    "ExecuteTime": {
     "end_time": "2025-04-23T13:50:11.954190Z",
     "start_time": "2025-04-23T13:50:11.950051Z"
    }
   },
   "cell_type": "code",
   "source": "y_train.describe()",
   "id": "f2be4cb70323adfd",
   "outputs": [
    {
     "data": {
      "text/plain": [
       "count    700.000000\n",
       "mean       0.100000\n",
       "std        0.300215\n",
       "min        0.000000\n",
       "25%        0.000000\n",
       "50%        0.000000\n",
       "75%        0.000000\n",
       "max        1.000000\n",
       "Name: label, dtype: float64"
      ]
     },
     "execution_count": 14,
     "metadata": {},
     "output_type": "execute_result"
    }
   ],
   "execution_count": 14
  },
  {
   "metadata": {
    "ExecuteTime": {
     "end_time": "2025-04-23T13:47:28.718928Z",
     "start_time": "2025-04-23T13:47:28.563136Z"
    }
   },
   "cell_type": "code",
   "source": [
    "# Train a logistic regression model\n",
    "model = LogisticRegression()\n",
    "model.fit(X_train, y_train)\n",
    "\n",
    "# Get prediction probabilities on validation set\n",
    "y_probs = model.predict_proba(X_val)[:, 1]\n",
    "\n",
    "# Sweep thresholds and calculate F1 score\n",
    "thresholds = np.linspace(0, 1, 101)\n",
    "f1_scores = [f1_score(y_val, y_probs >= t) for t in thresholds]\n",
    "best_threshold = thresholds[np.argmax(f1_scores)]\n",
    "best_f1 = max(f1_scores)\n",
    "\n",
    "# Plot F1 score vs. threshold\n",
    "plt.figure(figsize=(8, 5))\n",
    "plt.plot(thresholds, f1_scores, label='F1 Score')\n",
    "plt.axvline(best_threshold, color='red', linestyle='--', label=f'Best Threshold = {best_threshold:.2f}')\n",
    "plt.title('F1 Score vs. Threshold')\n",
    "plt.xlabel('Threshold')\n",
    "plt.ylabel('F1 Score')\n",
    "plt.legend()\n",
    "plt.grid(True)\n",
    "plt.tight_layout()\n",
    "plt.show()\n",
    "\n",
    "(best_threshold, best_f1)"
   ],
   "id": "42ffe085bd151e91",
   "outputs": [
    {
     "data": {
      "text/plain": [
       "<Figure size 800x500 with 1 Axes>"
      ],
      "image/png": "[encoded data removed]"
     },
     "metadata": {},
     "output_type": "display_data"
    },
    {
     "data": {
      "text/plain": [
       "(np.float64(0.21), 0.9122807017543859)"
      ]
     },
     "execution_count": 6,
     "metadata": {},
     "output_type": "execute_result"
    }
   ],
   "execution_count": 6
  },
  {
   "metadata": {
    "ExecuteTime": {
     "end_time": "2025-04-23T13:48:18.437390Z",
     "start_time": "2025-04-23T13:48:18.251275Z"
    }
   },
   "cell_type": "code",
   "source": [
    "# Sweep thresholds and calculate precision, recall, F1\n",
    "thresholds = np.linspace(0, 1, 101)\n",
    "precisions = [precision_score(y_val, y_probs >= t) for t in thresholds]\n",
    "recalls = [recall_score(y_val, y_probs >= t) for t in thresholds]\n",
    "f1s = [f1_score(y_val, y_probs >= t) for t in thresholds]\n",
    "\n",
    "#\n",
    "\n",
    "# Compile metrics into a DataFrame\n",
    "metrics_df = pd.DataFrame({\n",
    "    'threshold': thresholds,\n",
    "    'precision': precisions,\n",
    "    'recall': recalls,\n",
    "    'f1_score': f1s\n",
    "})"
   ],
   "id": "801c2e664a8e3c4b",
   "outputs": [
    {
     "name": "stderr",
     "output_type": "stream",
     "text": [
      "/Users/ssah/Documents/datascience/.venv/lib/python3.13/site-packages/sklearn/metrics/_classification.py:1565: UndefinedMetricWarning: Precision is ill-defined and being set to 0.0 due to no predicted samples. Use `zero_division` parameter to control this behavior.\n",
      "  _warn_prf(average, modifier, f\"{metric.capitalize()} is\", len(result))\n"
     ]
    }
   ],
   "execution_count": 8
  },
  {
   "metadata": {
    "ExecuteTime": {
     "end_time": "2025-04-23T13:51:54.055467Z",
     "start_time": "2025-04-23T13:51:54.050446Z"
    }
   },
   "cell_type": "code",
   "source": "metrics_df",
   "id": "4714e38ca12be281",
   "outputs": [
    {
     "data": {
      "text/plain": [
       "     threshold  precision    recall  f1_score\n",
       "0         0.00   0.100000  1.000000  0.181818\n",
       "1         0.01   0.200000  1.000000  0.333333\n",
       "2         0.02   0.267857  1.000000  0.422535\n",
       "3         0.03   0.340909  1.000000  0.508475\n",
       "4         0.04   0.410959  1.000000  0.582524\n",
       "..         ...        ...       ...       ...\n",
       "96        0.96   1.000000  0.666667  0.800000\n",
       "97        0.97   1.000000  0.666667  0.800000\n",
       "98        0.98   1.000000  0.633333  0.775510\n",
       "99        0.99   1.000000  0.633333  0.775510\n",
       "100       1.00   0.000000  0.000000  0.000000\n",
       "\n",
       "[101 rows x 4 columns]"
      ],
      "text/html": [
       "<div>\n",
       "<style scoped>\n",
       "    .dataframe tbody tr th:only-of-type {\n",
       "        vertical-align: middle;\n",
       "    }\n",
       "\n",
       "    .dataframe tbody tr th {\n",
       "        vertical-align: top;\n",
       "    }\n",
       "\n",
       "    .dataframe thead th {\n",
       "        text-align: right;\n",
       "    }\n",
       "</style>\n",
       "<table border=\"1\" class=\"dataframe\">\n",
       "  <thead>\n",
       "    <tr style=\"text-align: right;\">\n",
       "      <th></th>\n",
       "      <th>threshold</th>\n",
       "      <th>precision</th>\n",
       "      <th>recall</th>\n",
       "      <th>f1_score</th>\n",
       "    </tr>\n",
       "  </thead>\n",
       "  <tbody>\n",
       "    <tr>\n",
       "      <th>0</th>\n",
       "      <td>0.00</td>\n",
       "      <td>0.100000</td>\n",
       "      <td>1.000000</td>\n",
       "      <td>0.181818</td>\n",
       "    </tr>\n",
       "    <tr>\n",
       "      <th>1</th>\n",
       "      <td>0.01</td>\n",
       "      <td>0.200000</td>\n",
       "      <td>1.000000</td>\n",
       "      <td>0.333333</td>\n",
       "    </tr>\n",
       "    <tr>\n",
       "      <th>2</th>\n",
       "      <td>0.02</td>\n",
       "      <td>0.267857</td>\n",
       "      <td>1.000000</td>\n",
       "      <td>0.422535</td>\n",
       "    </tr>\n",
       "    <tr>\n",
       "      <th>3</th>\n",
       "      <td>0.03</td>\n",
       "      <td>0.340909</td>\n",
       "      <td>1.000000</td>\n",
       "      <td>0.508475</td>\n",
       "    </tr>\n",
       "    <tr>\n",
       "      <th>4</th>\n",
       "      <td>0.04</td>\n",
       "      <td>0.410959</td>\n",
       "      <td>1.000000</td>\n",
       "      <td>0.582524</td>\n",
       "    </tr>\n",
       "    <tr>\n",
       "      <th>...</th>\n",
       "      <td>...</td>\n",
       "      <td>...</td>\n",
       "      <td>...</td>\n",
       "      <td>...</td>\n",
       "    </tr>\n",
       "    <tr>\n",
       "      <th>96</th>\n",
       "      <td>0.96</td>\n",
       "      <td>1.000000</td>\n",
       "      <td>0.666667</td>\n",
       "      <td>0.800000</td>\n",
       "    </tr>\n",
       "    <tr>\n",
       "      <th>97</th>\n",
       "      <td>0.97</td>\n",
       "      <td>1.000000</td>\n",
       "      <td>0.666667</td>\n",
       "      <td>0.800000</td>\n",
       "    </tr>\n",
       "    <tr>\n",
       "      <th>98</th>\n",
       "      <td>0.98</td>\n",
       "      <td>1.000000</td>\n",
       "      <td>0.633333</td>\n",
       "      <td>0.775510</td>\n",
       "    </tr>\n",
       "    <tr>\n",
       "      <th>99</th>\n",
       "      <td>0.99</td>\n",
       "      <td>1.000000</td>\n",
       "      <td>0.633333</td>\n",
       "      <td>0.775510</td>\n",
       "    </tr>\n",
       "    <tr>\n",
       "      <th>100</th>\n",
       "      <td>1.00</td>\n",
       "      <td>0.000000</td>\n",
       "      <td>0.000000</td>\n",
       "      <td>0.000000</td>\n",
       "    </tr>\n",
       "  </tbody>\n",
       "</table>\n",
       "<p>101 rows × 4 columns</p>\n",
       "</div>"
      ]
     },
     "execution_count": 15,
     "metadata": {},
     "output_type": "execute_result"
    }
   ],
   "execution_count": 15
  },
  {
   "metadata": {},
   "cell_type": "code",
   "outputs": [],
   "execution_count": null,
   "source": [
    "\n",
    "# Identify best threshold by F1\n",
    "best_idx = np.argmax(f1s)\n",
    "best_threshold = thresholds[best_idx]\n",
    "\n",
    "# Display metrics table\n",
    "import ace_tools as tools; tools.display_dataframe_to_user(\"Metrics by Threshold\", metrics_df)\n",
    "\n",
    "# Compute confusion matrix at best threshold\n",
    "cm = confusion_matrix(y_val, y_probs >= best_threshold)\n",
    "cm_df = pd.DataFrame(cm, index=['Actual Negative (0)', 'Actual Positive (1)'],\n",
    "                     columns=['Predicted Negative (0)', 'Predicted Positive (1)'])\n",
    "tools.display_dataframe_to_user(\"Confusion Matrix at Best Threshold\", cm_df)"
   ],
   "id": "a8332a989fd6f47f"
  },
  {
   "metadata": {},
   "cell_type": "code",
   "outputs": [],
   "execution_count": null,
   "source": "",
   "id": "9aa1c5ab63fd2129"
  },
  {
   "metadata": {
    "ExecuteTime": {
     "end_time": "2025-04-23T13:54:30.267678Z",
     "start_time": "2025-04-23T13:54:30.217852Z"
    }
   },
   "cell_type": "code",
   "source": [
    "# Compute precision-recall pairs and average precision\n",
    "precision, recall, _ = precision_recall_curve(y_val, y_probs)\n",
    "avg_precision = average_precision_score(y_val, y_probs)\n",
    "\n",
    "# Plot Precision-Recall Curve\n",
    "plt.figure(figsize=(8, 5))\n",
    "plt.plot(recall, precision, label=f'PR Curve (AP = {avg_precision:.2f})')\n",
    "plt.xlabel('Recall')\n",
    "plt.ylabel('Precision')\n",
    "plt.title('Precision-Recall Curve')\n",
    "plt.grid(True)\n",
    "plt.legend()\n",
    "plt.tight_layout()\n",
    "plt.show()"
   ],
   "id": "17db8d5ec7d53e90",
   "outputs": [
    {
     "data": {
      "text/plain": [
       "<Figure size 800x500 with 1 Axes>"
      ],
      "image/png": "[encoded data removed]"
     },
     "metadata": {},
     "output_type": "display_data"
    }
   ],
   "execution_count": 17
  },
  {
   "metadata": {},
   "cell_type": "code",
   "outputs": [],
   "execution_count": null,
   "source": "",
   "id": "590cbf9c2a7e102"
  }
 ],
 "metadata": {
  "kernelspec": {
   "display_name": "Python 3",
   "language": "python",
   "name": "python3"
  },
  "language_info": {
   "codemirror_mode": {
    "name": "ipython",
    "version": 2
   },
   "file_extension": ".py",
   "mimetype": "text/x-python",
   "name": "python",
   "nbconvert_exporter": "python",
   "pygments_lexer": "ipython2",
   "version": "2.7.6"
  }
 },
 "nbformat": 4,
 "nbformat_minor": 5
}
