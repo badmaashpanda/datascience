{
 "cells": [
  {
   "cell_type": "code",
   "execution_count": 1,
   "metadata": {
    "collapsed": true
   },
   "outputs": [],
   "source": [
    "import pandas as pd\n",
    "import numpy as np\n",
    "import matplotlib.pyplot as plt\n",
    "import seaborn as sns"
   ]
  },
  {
   "cell_type": "code",
   "execution_count": 2,
   "outputs": [],
   "source": [
    "df = pd.read_csv('~/Documents/interview/data/test_task.csv')"
   ],
   "metadata": {
    "collapsed": false
   }
  },
  {
   "cell_type": "code",
   "execution_count": 3,
   "outputs": [
    {
     "data": {
      "text/plain": "   loanKey rep_loan_date  first_loan  dpd_5_cnt  dpd_15_cnt  dpd_30_cnt  \\\n0   708382    2016-10-06  2015-11-13        NaN         NaN         NaN   \n1   406305    2016-03-26  2015-09-28        1.0         0.0         0.0   \n2   779736    2016-10-30  2015-12-21        NaN         NaN         NaN   \n3   556376    2016-06-29  2015-06-30        NaN         NaN         NaN   \n4   266968    2015-12-01  2015-08-03        NaN         NaN         NaN   \n\n  first_overdue_date  close_loans_cnt federal_district_nm  TraderKey  ...  \\\n0                NaN              3.0            region_6          6  ...   \n1         2016-01-30              0.0            region_6          6  ...   \n2                NaN              2.0            region_1          6  ...   \n3                NaN              1.0            region_6         14  ...   \n4                NaN              0.0            region_5         22  ...   \n\n   payment_type_2  payment_type_3  payment_type_4  payment_type_5  \\\n0              10               0               0               0   \n1               6               0               0               0   \n2               0               5               0               0   \n3               4               0               0               0   \n4               0               0               0               0   \n\n   past_billings_cnt  score_1  score_2   age  gender  bad_flag  \n0               10.0      NaN      NaN  21.0   False         0  \n1                5.0      NaN      NaN  20.0   False         0  \n2                5.0      NaN      NaN  19.0   False         0  \n3                6.0      NaN      NaN  21.0   False         0  \n4                3.0      NaN      NaN  33.0   False         0  \n\n[5 rows x 22 columns]",
      "text/html": "<div>\n<style scoped>\n    .dataframe tbody tr th:only-of-type {\n        vertical-align: middle;\n    }\n\n    .dataframe tbody tr th {\n        vertical-align: top;\n    }\n\n    .dataframe thead th {\n        text-align: right;\n    }\n</style>\n<table border=\"1\" class=\"dataframe\">\n  <thead>\n    <tr style=\"text-align: right;\">\n      <th></th>\n      <th>loanKey</th>\n      <th>rep_loan_date</th>\n      <th>first_loan</th>\n      <th>dpd_5_cnt</th>\n      <th>dpd_15_cnt</th>\n      <th>dpd_30_cnt</th>\n      <th>first_overdue_date</th>\n      <th>close_loans_cnt</th>\n      <th>federal_district_nm</th>\n      <th>TraderKey</th>\n      <th>...</th>\n      <th>payment_type_2</th>\n      <th>payment_type_3</th>\n      <th>payment_type_4</th>\n      <th>payment_type_5</th>\n      <th>past_billings_cnt</th>\n      <th>score_1</th>\n      <th>score_2</th>\n      <th>age</th>\n      <th>gender</th>\n      <th>bad_flag</th>\n    </tr>\n  </thead>\n  <tbody>\n    <tr>\n      <th>0</th>\n      <td>708382</td>\n      <td>2016-10-06</td>\n      <td>2015-11-13</td>\n      <td>NaN</td>\n      <td>NaN</td>\n      <td>NaN</td>\n      <td>NaN</td>\n      <td>3.0</td>\n      <td>region_6</td>\n      <td>6</td>\n      <td>...</td>\n      <td>10</td>\n      <td>0</td>\n      <td>0</td>\n      <td>0</td>\n      <td>10.0</td>\n      <td>NaN</td>\n      <td>NaN</td>\n      <td>21.0</td>\n      <td>False</td>\n      <td>0</td>\n    </tr>\n    <tr>\n      <th>1</th>\n      <td>406305</td>\n      <td>2016-03-26</td>\n      <td>2015-09-28</td>\n      <td>1.0</td>\n      <td>0.0</td>\n      <td>0.0</td>\n      <td>2016-01-30</td>\n      <td>0.0</td>\n      <td>region_6</td>\n      <td>6</td>\n      <td>...</td>\n      <td>6</td>\n      <td>0</td>\n      <td>0</td>\n      <td>0</td>\n      <td>5.0</td>\n      <td>NaN</td>\n      <td>NaN</td>\n      <td>20.0</td>\n      <td>False</td>\n      <td>0</td>\n    </tr>\n    <tr>\n      <th>2</th>\n      <td>779736</td>\n      <td>2016-10-30</td>\n      <td>2015-12-21</td>\n      <td>NaN</td>\n      <td>NaN</td>\n      <td>NaN</td>\n      <td>NaN</td>\n      <td>2.0</td>\n      <td>region_1</td>\n      <td>6</td>\n      <td>...</td>\n      <td>0</td>\n      <td>5</td>\n      <td>0</td>\n      <td>0</td>\n      <td>5.0</td>\n      <td>NaN</td>\n      <td>NaN</td>\n      <td>19.0</td>\n      <td>False</td>\n      <td>0</td>\n    </tr>\n    <tr>\n      <th>3</th>\n      <td>556376</td>\n      <td>2016-06-29</td>\n      <td>2015-06-30</td>\n      <td>NaN</td>\n      <td>NaN</td>\n      <td>NaN</td>\n      <td>NaN</td>\n      <td>1.0</td>\n      <td>region_6</td>\n      <td>14</td>\n      <td>...</td>\n      <td>4</td>\n      <td>0</td>\n      <td>0</td>\n      <td>0</td>\n      <td>6.0</td>\n      <td>NaN</td>\n      <td>NaN</td>\n      <td>21.0</td>\n      <td>False</td>\n      <td>0</td>\n    </tr>\n    <tr>\n      <th>4</th>\n      <td>266968</td>\n      <td>2015-12-01</td>\n      <td>2015-08-03</td>\n      <td>NaN</td>\n      <td>NaN</td>\n      <td>NaN</td>\n      <td>NaN</td>\n      <td>0.0</td>\n      <td>region_5</td>\n      <td>22</td>\n      <td>...</td>\n      <td>0</td>\n      <td>0</td>\n      <td>0</td>\n      <td>0</td>\n      <td>3.0</td>\n      <td>NaN</td>\n      <td>NaN</td>\n      <td>33.0</td>\n      <td>False</td>\n      <td>0</td>\n    </tr>\n  </tbody>\n</table>\n<p>5 rows × 22 columns</p>\n</div>"
     },
     "execution_count": 3,
     "metadata": {},
     "output_type": "execute_result"
    }
   ],
   "source": [
    "df.head()"
   ],
   "metadata": {
    "collapsed": false
   }
  },
  {
   "cell_type": "code",
   "execution_count": null,
   "outputs": [],
   "source": [],
   "metadata": {
    "collapsed": false
   }
  }
 ],
 "metadata": {
  "kernelspec": {
   "display_name": "Python 3",
   "language": "python",
   "name": "python3"
  },
  "language_info": {
   "codemirror_mode": {
    "name": "ipython",
    "version": 2
   },
   "file_extension": ".py",
   "mimetype": "text/x-python",
   "name": "python",
   "nbconvert_exporter": "python",
   "pygments_lexer": "ipython2",
   "version": "2.7.6"
  }
 },
 "nbformat": 4,
 "nbformat_minor": 0
}
