{
 "cells": [
  {
   "cell_type": "code",
   "execution_count": 48,
   "metadata": {
    "collapsed": true
   },
   "outputs": [],
   "source": [
    "import pandas as pd\n",
    "import datetime\n",
    "from datetime import date, timedelta\n",
    "import plotly.graph_objects as go\n",
    "import plotly.express as px\n",
    "import plotly.io as pio\n",
    "pio.templates.default = \"plotly_white\""
   ]
  },
  {
   "cell_type": "code",
   "execution_count": 49,
   "outputs": [],
   "source": [
    "control_data = pd.read_csv(\"~/Documents/interview/data/control_group.csv\", sep = \";\")\n",
    "test_data = pd.read_csv(\"~/Documents/interview/data/test_group.csv\", sep = \";\")"
   ],
   "metadata": {
    "collapsed": false
   }
  },
  {
   "cell_type": "code",
   "execution_count": 50,
   "outputs": [
    {
     "data": {
      "text/plain": "      Campaign Name       Date  Spend [USD]  # of Impressions     Reach  \\\n0  Control Campaign  1.08.2019         2280           82702.0   56930.0   \n1  Control Campaign  2.08.2019         1757          121040.0  102513.0   \n2  Control Campaign  3.08.2019         2343          131711.0  110862.0   \n3  Control Campaign  4.08.2019         1940           72878.0   61235.0   \n4  Control Campaign  5.08.2019         1835               NaN       NaN   \n\n   # of Website Clicks  # of Searches  # of View Content  # of Add to Cart  \\\n0               7016.0         2290.0             2159.0            1819.0   \n1               8110.0         2033.0             1841.0            1219.0   \n2               6508.0         1737.0             1549.0            1134.0   \n3               3065.0         1042.0              982.0            1183.0   \n4                  NaN            NaN                NaN               NaN   \n\n   # of Purchase  \n0          618.0  \n1          511.0  \n2          372.0  \n3          340.0  \n4            NaN  ",
      "text/html": "<div>\n<style scoped>\n    .dataframe tbody tr th:only-of-type {\n        vertical-align: middle;\n    }\n\n    .dataframe tbody tr th {\n        vertical-align: top;\n    }\n\n    .dataframe thead th {\n        text-align: right;\n    }\n</style>\n<table border=\"1\" class=\"dataframe\">\n  <thead>\n    <tr style=\"text-align: right;\">\n      <th></th>\n      <th>Campaign Name</th>\n      <th>Date</th>\n      <th>Spend [USD]</th>\n      <th># of Impressions</th>\n      <th>Reach</th>\n      <th># of Website Clicks</th>\n      <th># of Searches</th>\n      <th># of View Content</th>\n      <th># of Add to Cart</th>\n      <th># of Purchase</th>\n    </tr>\n  </thead>\n  <tbody>\n    <tr>\n      <th>0</th>\n      <td>Control Campaign</td>\n      <td>1.08.2019</td>\n      <td>2280</td>\n      <td>82702.0</td>\n      <td>56930.0</td>\n      <td>7016.0</td>\n      <td>2290.0</td>\n      <td>2159.0</td>\n      <td>1819.0</td>\n      <td>618.0</td>\n    </tr>\n    <tr>\n      <th>1</th>\n      <td>Control Campaign</td>\n      <td>2.08.2019</td>\n      <td>1757</td>\n      <td>121040.0</td>\n      <td>102513.0</td>\n      <td>8110.0</td>\n      <td>2033.0</td>\n      <td>1841.0</td>\n      <td>1219.0</td>\n      <td>511.0</td>\n    </tr>\n    <tr>\n      <th>2</th>\n      <td>Control Campaign</td>\n      <td>3.08.2019</td>\n      <td>2343</td>\n      <td>131711.0</td>\n      <td>110862.0</td>\n      <td>6508.0</td>\n      <td>1737.0</td>\n      <td>1549.0</td>\n      <td>1134.0</td>\n      <td>372.0</td>\n    </tr>\n    <tr>\n      <th>3</th>\n      <td>Control Campaign</td>\n      <td>4.08.2019</td>\n      <td>1940</td>\n      <td>72878.0</td>\n      <td>61235.0</td>\n      <td>3065.0</td>\n      <td>1042.0</td>\n      <td>982.0</td>\n      <td>1183.0</td>\n      <td>340.0</td>\n    </tr>\n    <tr>\n      <th>4</th>\n      <td>Control Campaign</td>\n      <td>5.08.2019</td>\n      <td>1835</td>\n      <td>NaN</td>\n      <td>NaN</td>\n      <td>NaN</td>\n      <td>NaN</td>\n      <td>NaN</td>\n      <td>NaN</td>\n      <td>NaN</td>\n    </tr>\n  </tbody>\n</table>\n</div>"
     },
     "execution_count": 50,
     "metadata": {},
     "output_type": "execute_result"
    }
   ],
   "source": [
    "control_data.head()"
   ],
   "metadata": {
    "collapsed": false
   }
  },
  {
   "cell_type": "code",
   "execution_count": 51,
   "outputs": [
    {
     "data": {
      "text/plain": "   Campaign Name       Date  Spend [USD]  # of Impressions  Reach  \\\n0  Test Campaign  1.08.2019         3008             39550  35820   \n1  Test Campaign  2.08.2019         2542            100719  91236   \n2  Test Campaign  3.08.2019         2365             70263  45198   \n3  Test Campaign  4.08.2019         2710             78451  25937   \n4  Test Campaign  5.08.2019         2297            114295  95138   \n\n   # of Website Clicks  # of Searches  # of View Content  # of Add to Cart  \\\n0                 3038           1946               1069               894   \n1                 4657           2359               1548               879   \n2                 7885           2572               2367              1268   \n3                 4216           2216               1437               566   \n4                 5863           2106                858               956   \n\n   # of Purchase  \n0            255  \n1            677  \n2            578  \n3            340  \n4            768  ",
      "text/html": "<div>\n<style scoped>\n    .dataframe tbody tr th:only-of-type {\n        vertical-align: middle;\n    }\n\n    .dataframe tbody tr th {\n        vertical-align: top;\n    }\n\n    .dataframe thead th {\n        text-align: right;\n    }\n</style>\n<table border=\"1\" class=\"dataframe\">\n  <thead>\n    <tr style=\"text-align: right;\">\n      <th></th>\n      <th>Campaign Name</th>\n      <th>Date</th>\n      <th>Spend [USD]</th>\n      <th># of Impressions</th>\n      <th>Reach</th>\n      <th># of Website Clicks</th>\n      <th># of Searches</th>\n      <th># of View Content</th>\n      <th># of Add to Cart</th>\n      <th># of Purchase</th>\n    </tr>\n  </thead>\n  <tbody>\n    <tr>\n      <th>0</th>\n      <td>Test Campaign</td>\n      <td>1.08.2019</td>\n      <td>3008</td>\n      <td>39550</td>\n      <td>35820</td>\n      <td>3038</td>\n      <td>1946</td>\n      <td>1069</td>\n      <td>894</td>\n      <td>255</td>\n    </tr>\n    <tr>\n      <th>1</th>\n      <td>Test Campaign</td>\n      <td>2.08.2019</td>\n      <td>2542</td>\n      <td>100719</td>\n      <td>91236</td>\n      <td>4657</td>\n      <td>2359</td>\n      <td>1548</td>\n      <td>879</td>\n      <td>677</td>\n    </tr>\n    <tr>\n      <th>2</th>\n      <td>Test Campaign</td>\n      <td>3.08.2019</td>\n      <td>2365</td>\n      <td>70263</td>\n      <td>45198</td>\n      <td>7885</td>\n      <td>2572</td>\n      <td>2367</td>\n      <td>1268</td>\n      <td>578</td>\n    </tr>\n    <tr>\n      <th>3</th>\n      <td>Test Campaign</td>\n      <td>4.08.2019</td>\n      <td>2710</td>\n      <td>78451</td>\n      <td>25937</td>\n      <td>4216</td>\n      <td>2216</td>\n      <td>1437</td>\n      <td>566</td>\n      <td>340</td>\n    </tr>\n    <tr>\n      <th>4</th>\n      <td>Test Campaign</td>\n      <td>5.08.2019</td>\n      <td>2297</td>\n      <td>114295</td>\n      <td>95138</td>\n      <td>5863</td>\n      <td>2106</td>\n      <td>858</td>\n      <td>956</td>\n      <td>768</td>\n    </tr>\n  </tbody>\n</table>\n</div>"
     },
     "execution_count": 51,
     "metadata": {},
     "output_type": "execute_result"
    }
   ],
   "source": [
    "test_data.head()"
   ],
   "metadata": {
    "collapsed": false
   }
  },
  {
   "cell_type": "code",
   "execution_count": 52,
   "outputs": [],
   "source": [
    "control_data.columns = [\"Campaign Name\", \"Date\", \"Amount Spent\",\n",
    "                        \"Number of Impressions\", \"Reach\", \"Website Clicks\",\n",
    "                        \"Searches Received\", \"Content Viewed\", \"Added to Cart\",\n",
    "                        \"Purchases\"]\n",
    "\n",
    "test_data.columns = [\"Campaign Name\", \"Date\", \"Amount Spent\",\n",
    "                        \"Number of Impressions\", \"Reach\", \"Website Clicks\",\n",
    "                        \"Searches Received\", \"Content Viewed\", \"Added to Cart\",\n",
    "                        \"Purchases\"]"
   ],
   "metadata": {
    "collapsed": false
   }
  },
  {
   "cell_type": "code",
   "execution_count": 53,
   "outputs": [
    {
     "data": {
      "text/plain": "      Campaign Name       Date  Amount Spent  Number of Impressions     Reach  \\\n0  Control Campaign  1.08.2019          2280                82702.0   56930.0   \n1  Control Campaign  2.08.2019          1757               121040.0  102513.0   \n2  Control Campaign  3.08.2019          2343               131711.0  110862.0   \n3  Control Campaign  4.08.2019          1940                72878.0   61235.0   \n4  Control Campaign  5.08.2019          1835                    NaN       NaN   \n\n   Website Clicks  Searches Received  Content Viewed  Added to Cart  Purchases  \n0          7016.0             2290.0          2159.0         1819.0      618.0  \n1          8110.0             2033.0          1841.0         1219.0      511.0  \n2          6508.0             1737.0          1549.0         1134.0      372.0  \n3          3065.0             1042.0           982.0         1183.0      340.0  \n4             NaN                NaN             NaN            NaN        NaN  ",
      "text/html": "<div>\n<style scoped>\n    .dataframe tbody tr th:only-of-type {\n        vertical-align: middle;\n    }\n\n    .dataframe tbody tr th {\n        vertical-align: top;\n    }\n\n    .dataframe thead th {\n        text-align: right;\n    }\n</style>\n<table border=\"1\" class=\"dataframe\">\n  <thead>\n    <tr style=\"text-align: right;\">\n      <th></th>\n      <th>Campaign Name</th>\n      <th>Date</th>\n      <th>Amount Spent</th>\n      <th>Number of Impressions</th>\n      <th>Reach</th>\n      <th>Website Clicks</th>\n      <th>Searches Received</th>\n      <th>Content Viewed</th>\n      <th>Added to Cart</th>\n      <th>Purchases</th>\n    </tr>\n  </thead>\n  <tbody>\n    <tr>\n      <th>0</th>\n      <td>Control Campaign</td>\n      <td>1.08.2019</td>\n      <td>2280</td>\n      <td>82702.0</td>\n      <td>56930.0</td>\n      <td>7016.0</td>\n      <td>2290.0</td>\n      <td>2159.0</td>\n      <td>1819.0</td>\n      <td>618.0</td>\n    </tr>\n    <tr>\n      <th>1</th>\n      <td>Control Campaign</td>\n      <td>2.08.2019</td>\n      <td>1757</td>\n      <td>121040.0</td>\n      <td>102513.0</td>\n      <td>8110.0</td>\n      <td>2033.0</td>\n      <td>1841.0</td>\n      <td>1219.0</td>\n      <td>511.0</td>\n    </tr>\n    <tr>\n      <th>2</th>\n      <td>Control Campaign</td>\n      <td>3.08.2019</td>\n      <td>2343</td>\n      <td>131711.0</td>\n      <td>110862.0</td>\n      <td>6508.0</td>\n      <td>1737.0</td>\n      <td>1549.0</td>\n      <td>1134.0</td>\n      <td>372.0</td>\n    </tr>\n    <tr>\n      <th>3</th>\n      <td>Control Campaign</td>\n      <td>4.08.2019</td>\n      <td>1940</td>\n      <td>72878.0</td>\n      <td>61235.0</td>\n      <td>3065.0</td>\n      <td>1042.0</td>\n      <td>982.0</td>\n      <td>1183.0</td>\n      <td>340.0</td>\n    </tr>\n    <tr>\n      <th>4</th>\n      <td>Control Campaign</td>\n      <td>5.08.2019</td>\n      <td>1835</td>\n      <td>NaN</td>\n      <td>NaN</td>\n      <td>NaN</td>\n      <td>NaN</td>\n      <td>NaN</td>\n      <td>NaN</td>\n      <td>NaN</td>\n    </tr>\n  </tbody>\n</table>\n</div>"
     },
     "execution_count": 53,
     "metadata": {},
     "output_type": "execute_result"
    }
   ],
   "source": [
    "control_data.head()"
   ],
   "metadata": {
    "collapsed": false
   }
  },
  {
   "cell_type": "code",
   "execution_count": 54,
   "outputs": [
    {
     "data": {
      "text/plain": "Campaign Name            0\nDate                     0\nAmount Spent             0\nNumber of Impressions    1\nReach                    1\nWebsite Clicks           1\nSearches Received        1\nContent Viewed           1\nAdded to Cart            1\nPurchases                1\ndtype: int64"
     },
     "execution_count": 54,
     "metadata": {},
     "output_type": "execute_result"
    }
   ],
   "source": [
    "control_data.isna().sum()"
   ],
   "metadata": {
    "collapsed": false
   }
  },
  {
   "cell_type": "code",
   "execution_count": 55,
   "outputs": [
    {
     "data": {
      "text/plain": "Campaign Name            0\nDate                     0\nAmount Spent             0\nNumber of Impressions    0\nReach                    0\nWebsite Clicks           0\nSearches Received        0\nContent Viewed           0\nAdded to Cart            0\nPurchases                0\ndtype: int64"
     },
     "execution_count": 55,
     "metadata": {},
     "output_type": "execute_result"
    }
   ],
   "source": [
    "test_data.isna().sum()"
   ],
   "metadata": {
    "collapsed": false
   }
  },
  {
   "cell_type": "code",
   "execution_count": 56,
   "outputs": [],
   "source": [
    "control_data[\"Number of Impressions\"].fillna(value=control_data[\"Number of Impressions\"].mean(), inplace=True)\n",
    "control_data[\"Reach\"].fillna(value=control_data[\"Reach\"].mean(), inplace=True)\n",
    "control_data[\"Website Clicks\"].fillna(value=control_data[\"Website Clicks\"].mean(), inplace=True)\n",
    "control_data[\"Searches Received\"].fillna(value=control_data[\"Searches Received\"].mean(), inplace=True)\n",
    "control_data[\"Content Viewed\"].fillna(value=control_data[\"Content Viewed\"].mean(), inplace=True)\n",
    "control_data[\"Added to Cart\"].fillna(value=control_data[\"Added to Cart\"].mean(), inplace=True)\n",
    "control_data[\"Purchases\"].fillna(value=control_data[\"Purchases\"].mean(), inplace=True)"
   ],
   "metadata": {
    "collapsed": false
   }
  },
  {
   "cell_type": "markdown",
   "source": [],
   "metadata": {
    "collapsed": false
   }
  },
  {
   "cell_type": "code",
   "execution_count": 57,
   "outputs": [
    {
     "data": {
      "text/plain": "109559.75862068965"
     },
     "execution_count": 57,
     "metadata": {},
     "output_type": "execute_result"
    }
   ],
   "source": [
    "control_data[\"Number of Impressions\"].mean()"
   ],
   "metadata": {
    "collapsed": false
   }
  },
  {
   "cell_type": "code",
   "execution_count": 58,
   "outputs": [
    {
     "data": {
      "text/plain": "Campaign Name            0\nDate                     0\nAmount Spent             0\nNumber of Impressions    0\nReach                    0\nWebsite Clicks           0\nSearches Received        0\nContent Viewed           0\nAdded to Cart            0\nPurchases                0\ndtype: int64"
     },
     "execution_count": 58,
     "metadata": {},
     "output_type": "execute_result"
    }
   ],
   "source": [
    "control_data.isna().sum()"
   ],
   "metadata": {
    "collapsed": false
   }
  },
  {
   "cell_type": "code",
   "execution_count": 59,
   "outputs": [],
   "source": [
    "ab = pd.concat([test_data,control_data])"
   ],
   "metadata": {
    "collapsed": false
   }
  },
  {
   "cell_type": "code",
   "execution_count": 60,
   "outputs": [],
   "source": [
    "ab = ab.sort_values(['Date']).reset_index(drop=True)"
   ],
   "metadata": {
    "collapsed": false
   }
  },
  {
   "cell_type": "code",
   "execution_count": 61,
   "outputs": [
    {
     "data": {
      "text/plain": "      Campaign Name        Date  Amount Spent  Number of Impressions    Reach  \\\n0     Test Campaign   1.08.2019          3008                39550.0  35820.0   \n1  Control Campaign   1.08.2019          2280                82702.0  56930.0   \n2  Control Campaign  10.08.2019          2149               117624.0  91257.0   \n3     Test Campaign  10.08.2019          2790                95054.0  79632.0   \n4  Control Campaign  11.08.2019          2490               115247.0  95843.0   \n\n   Website Clicks  Searches Received  Content Viewed  Added to Cart  Purchases  \n0          3038.0             1946.0          1069.0          894.0      255.0  \n1          7016.0             2290.0          2159.0         1819.0      618.0  \n2          2277.0             2475.0          1984.0         1629.0      734.0  \n3          8125.0             2312.0          1804.0          424.0      275.0  \n4          8137.0             2941.0          2486.0         1887.0      475.0  ",
      "text/html": "<div>\n<style scoped>\n    .dataframe tbody tr th:only-of-type {\n        vertical-align: middle;\n    }\n\n    .dataframe tbody tr th {\n        vertical-align: top;\n    }\n\n    .dataframe thead th {\n        text-align: right;\n    }\n</style>\n<table border=\"1\" class=\"dataframe\">\n  <thead>\n    <tr style=\"text-align: right;\">\n      <th></th>\n      <th>Campaign Name</th>\n      <th>Date</th>\n      <th>Amount Spent</th>\n      <th>Number of Impressions</th>\n      <th>Reach</th>\n      <th>Website Clicks</th>\n      <th>Searches Received</th>\n      <th>Content Viewed</th>\n      <th>Added to Cart</th>\n      <th>Purchases</th>\n    </tr>\n  </thead>\n  <tbody>\n    <tr>\n      <th>0</th>\n      <td>Test Campaign</td>\n      <td>1.08.2019</td>\n      <td>3008</td>\n      <td>39550.0</td>\n      <td>35820.0</td>\n      <td>3038.0</td>\n      <td>1946.0</td>\n      <td>1069.0</td>\n      <td>894.0</td>\n      <td>255.0</td>\n    </tr>\n    <tr>\n      <th>1</th>\n      <td>Control Campaign</td>\n      <td>1.08.2019</td>\n      <td>2280</td>\n      <td>82702.0</td>\n      <td>56930.0</td>\n      <td>7016.0</td>\n      <td>2290.0</td>\n      <td>2159.0</td>\n      <td>1819.0</td>\n      <td>618.0</td>\n    </tr>\n    <tr>\n      <th>2</th>\n      <td>Control Campaign</td>\n      <td>10.08.2019</td>\n      <td>2149</td>\n      <td>117624.0</td>\n      <td>91257.0</td>\n      <td>2277.0</td>\n      <td>2475.0</td>\n      <td>1984.0</td>\n      <td>1629.0</td>\n      <td>734.0</td>\n    </tr>\n    <tr>\n      <th>3</th>\n      <td>Test Campaign</td>\n      <td>10.08.2019</td>\n      <td>2790</td>\n      <td>95054.0</td>\n      <td>79632.0</td>\n      <td>8125.0</td>\n      <td>2312.0</td>\n      <td>1804.0</td>\n      <td>424.0</td>\n      <td>275.0</td>\n    </tr>\n    <tr>\n      <th>4</th>\n      <td>Control Campaign</td>\n      <td>11.08.2019</td>\n      <td>2490</td>\n      <td>115247.0</td>\n      <td>95843.0</td>\n      <td>8137.0</td>\n      <td>2941.0</td>\n      <td>2486.0</td>\n      <td>1887.0</td>\n      <td>475.0</td>\n    </tr>\n  </tbody>\n</table>\n</div>"
     },
     "execution_count": 61,
     "metadata": {},
     "output_type": "execute_result"
    }
   ],
   "source": [
    "ab.head()"
   ],
   "metadata": {
    "collapsed": false
   }
  },
  {
   "cell_type": "code",
   "execution_count": 62,
   "outputs": [
    {
     "data": {
      "text/plain": "Test Campaign       30\nControl Campaign    30\nName: Campaign Name, dtype: int64"
     },
     "execution_count": 62,
     "metadata": {},
     "output_type": "execute_result"
    }
   ],
   "source": [
    "ab['Campaign Name'].value_counts()"
   ],
   "metadata": {
    "collapsed": false
   }
  },
  {
   "cell_type": "code",
   "execution_count": 65,
   "outputs": [
    {
     "data": {
      "application/vnd.plotly.v1+json": {
       "data": [
        {
         "hovertemplate": "Campaign Name=Test Campaign<br>Number of Impressions=%{x}<br>Amount Spent=%{marker.size}<extra></extra>",
         "legendgroup": "Test Campaign",
         "marker": {
          "color": "#636efa",
          "size": [
           3008,
           2790,
           2420,
           2831,
           1972,
           2537,
           2516,
           3076,
           1968,
           1979,
           2626,
           2542,
           2712,
           3112,
           2899,
           2407,
           2078,
           2928,
           2311,
           2915,
           2247,
           2805,
           2365,
           1977,
           2710,
           2297,
           2458,
           2838,
           2916,
           2652
          ],
          "sizemode": "area",
          "sizeref": 7.78,
          "symbol": "circle"
         },
         "mode": "markers",
         "name": "Test Campaign",
         "orientation": "v",
         "showlegend": true,
         "x": [
          39550.0,
          95054.0,
          83633.0,
          124591.0,
          65827.0,
          56304.0,
          94338.0,
          106584.0,
          95843.0,
          53632.0,
          22521.0,
          100719.0,
          39470.0,
          133771.0,
          34752.0,
          60286.0,
          36650.0,
          120576.0,
          80841.0,
          111469.0,
          54627.0,
          67444.0,
          70263.0,
          120203.0,
          78451.0,
          114295.0,
          42684.0,
          53986.0,
          33669.0,
          45511.0
         ],
         "xaxis": "x",
         "y": [
          3008,
          2790,
          2420,
          2831,
          1972,
          2537,
          2516,
          3076,
          1968,
          1979,
          2626,
          2542,
          2712,
          3112,
          2899,
          2407,
          2078,
          2928,
          2311,
          2915,
          2247,
          2805,
          2365,
          1977,
          2710,
          2297,
          2458,
          2838,
          2916,
          2652
         ],
         "yaxis": "y",
         "type": "scatter"
        },
        {
         "hovertemplate": "<b>OLS trendline</b><br>Amount Spent = 0.00100671 * Number of Impressions + 2487.98<br>R<sup>2</sup>=0.008600<br><br>Campaign Name=Test Campaign<br>Number of Impressions=%{x}<br>Amount Spent=%{y} <b>(trend)</b><extra></extra>",
         "legendgroup": "Test Campaign",
         "marker": {
          "color": "#636efa",
          "symbol": "circle"
         },
         "mode": "lines",
         "name": "Test Campaign",
         "showlegend": false,
         "x": [
          22521.0,
          33669.0,
          34752.0,
          36650.0,
          39470.0,
          39550.0,
          42684.0,
          45511.0,
          53632.0,
          53986.0,
          54627.0,
          56304.0,
          60286.0,
          65827.0,
          67444.0,
          70263.0,
          78451.0,
          80841.0,
          83633.0,
          94338.0,
          95054.0,
          95843.0,
          100719.0,
          106584.0,
          111469.0,
          114295.0,
          120203.0,
          120576.0,
          124591.0,
          133771.0
         ],
         "xaxis": "x",
         "y": [
          2510.6536698946106,
          2521.876440572412,
          2522.96670435462,
          2524.8774344179915,
          2527.7163484215257,
          2527.7968849890017,
          2530.9519050198796,
          2533.797865973068,
          2541.9733342789905,
          2542.329708590072,
          2542.975007836975,
          2544.6632556326936,
          2548.6719632788186,
          2554.2501272836353,
          2555.877972653747,
          2558.7158799501876,
          2566.958797631371,
          2569.364827584721,
          2572.1755537896383,
          2582.95235322504,
          2583.673155503952,
          2584.467447400685,
          2589.3761511883563,
          2595.280488291451,
          2600.198252442963,
          2603.043206689058,
          2608.9908321971716,
          2609.366333943029,
          2613.408262923238,
          2622.649834041126
         ],
         "yaxis": "y",
         "type": "scatter"
        },
        {
         "hovertemplate": "Campaign Name=Control Campaign<br>Number of Impressions=%{x}<br>Amount Spent=%{marker.size}<extra></extra>",
         "legendgroup": "Control Campaign",
         "marker": {
          "color": "#EF553B",
          "size": [
           2280,
           2149,
           2490,
           2319,
           2697,
           1875,
           2774,
           2024,
           2177,
           1876,
           2596,
           1757,
           2675,
           1803,
           2939,
           2496,
           1892,
           1962,
           2233,
           2061,
           2421,
           2375,
           2343,
           2324,
           1940,
           1835,
           3083,
           2544,
           1900,
           2813
          ],
          "sizemode": "area",
          "sizeref": 7.78,
          "symbol": "circle"
         },
         "mode": "markers",
         "name": "Control Campaign",
         "orientation": "v",
         "showlegend": true,
         "x": [
          82702.0,
          117624.0,
          115247.0,
          116639.0,
          82847.0,
          145248.0,
          132845.0,
          71274.0,
          119612.0,
          108452.0,
          107890.0,
          121040.0,
          113430.0,
          74654.0,
          105705.0,
          129880.0,
          72515.0,
          117006.0,
          124897.0,
          104678.0,
          141654.0,
          92029.0,
          131711.0,
          111306.0,
          72878.0,
          109559.75862068965,
          109076.0,
          142123.0,
          90939.0,
          121332.0
         ],
         "xaxis": "x",
         "y": [
          2280,
          2149,
          2490,
          2319,
          2697,
          1875,
          2774,
          2024,
          2177,
          1876,
          2596,
          1757,
          2675,
          1803,
          2939,
          2496,
          1892,
          1962,
          2233,
          2061,
          2421,
          2375,
          2343,
          2324,
          1940,
          1835,
          3083,
          2544,
          1900,
          2813
         ],
         "yaxis": "y",
         "type": "scatter"
        },
        {
         "hovertemplate": "<b>OLS trendline</b><br>Amount Spent = 0.00453629 * Number of Impressions + 1791.44<br>R<sup>2</sup>=0.069265<br><br>Campaign Name=Control Campaign<br>Number of Impressions=%{x}<br>Amount Spent=%{y} <b>(trend)</b><extra></extra>",
         "legendgroup": "Control Campaign",
         "marker": {
          "color": "#EF553B",
          "symbol": "circle"
         },
         "mode": "lines",
         "name": "Control Campaign",
         "showlegend": false,
         "x": [
          71274.0,
          72515.0,
          72878.0,
          74654.0,
          82702.0,
          82847.0,
          90939.0,
          92029.0,
          104678.0,
          105705.0,
          107890.0,
          108452.0,
          109076.0,
          109559.75862068965,
          111306.0,
          113430.0,
          115247.0,
          116639.0,
          117006.0,
          117624.0,
          119612.0,
          121040.0,
          121332.0,
          124897.0,
          129880.0,
          131711.0,
          132845.0,
          141654.0,
          142123.0,
          145248.0
         ],
         "xaxis": "x",
         "y": [
          2114.7579636191645,
          2120.3875016400934,
          2122.034175533403,
          2130.090629622984,
          2166.598705362256,
          2167.2564676612365,
          2203.9641402360617,
          2208.9086982077074,
          2266.2882521373863,
          2270.947023730854,
          2280.858821132732,
          2283.4082170777456,
          2286.23886310922,
          2288.4333333333334,
          2296.3547936383675,
          2305.9898772455012,
          2314.2323192954836,
          2320.546837365696,
          2322.2116564258736,
          2325.0150847070454,
          2334.033232640653,
          2340.511057212681,
          2341.835654394076,
          2358.00753436556,
          2380.6118759919013,
          2388.917826125923,
          2394.0619809331215,
          2434.022174669112,
          2436.1496954844347,
          2450.325607100392
         ],
         "yaxis": "y",
         "type": "scatter"
        }
       ],
       "layout": {
        "template": {
         "data": {
          "histogram2dcontour": [
           {
            "type": "histogram2dcontour",
            "colorbar": {
             "outlinewidth": 0,
             "ticks": ""
            },
            "colorscale": [
             [
              0.0,
              "#0d0887"
             ],
             [
              0.1111111111111111,
              "#46039f"
             ],
             [
              0.2222222222222222,
              "#7201a8"
             ],
             [
              0.3333333333333333,
              "#9c179e"
             ],
             [
              0.4444444444444444,
              "#bd3786"
             ],
             [
              0.5555555555555556,
              "#d8576b"
             ],
             [
              0.6666666666666666,
              "#ed7953"
             ],
             [
              0.7777777777777778,
              "#fb9f3a"
             ],
             [
              0.8888888888888888,
              "#fdca26"
             ],
             [
              1.0,
              "#f0f921"
             ]
            ]
           }
          ],
          "choropleth": [
           {
            "type": "choropleth",
            "colorbar": {
             "outlinewidth": 0,
             "ticks": ""
            }
           }
          ],
          "histogram2d": [
           {
            "type": "histogram2d",
            "colorbar": {
             "outlinewidth": 0,
             "ticks": ""
            },
            "colorscale": [
             [
              0.0,
              "#0d0887"
             ],
             [
              0.1111111111111111,
              "#46039f"
             ],
             [
              0.2222222222222222,
              "#7201a8"
             ],
             [
              0.3333333333333333,
              "#9c179e"
             ],
             [
              0.4444444444444444,
              "#bd3786"
             ],
             [
              0.5555555555555556,
              "#d8576b"
             ],
             [
              0.6666666666666666,
              "#ed7953"
             ],
             [
              0.7777777777777778,
              "#fb9f3a"
             ],
             [
              0.8888888888888888,
              "#fdca26"
             ],
             [
              1.0,
              "#f0f921"
             ]
            ]
           }
          ],
          "heatmap": [
           {
            "type": "heatmap",
            "colorbar": {
             "outlinewidth": 0,
             "ticks": ""
            },
            "colorscale": [
             [
              0.0,
              "#0d0887"
             ],
             [
              0.1111111111111111,
              "#46039f"
             ],
             [
              0.2222222222222222,
              "#7201a8"
             ],
             [
              0.3333333333333333,
              "#9c179e"
             ],
             [
              0.4444444444444444,
              "#bd3786"
             ],
             [
              0.5555555555555556,
              "#d8576b"
             ],
             [
              0.6666666666666666,
              "#ed7953"
             ],
             [
              0.7777777777777778,
              "#fb9f3a"
             ],
             [
              0.8888888888888888,
              "#fdca26"
             ],
             [
              1.0,
              "#f0f921"
             ]
            ]
           }
          ],
          "heatmapgl": [
           {
            "type": "heatmapgl",
            "colorbar": {
             "outlinewidth": 0,
             "ticks": ""
            },
            "colorscale": [
             [
              0.0,
              "#0d0887"
             ],
             [
              0.1111111111111111,
              "#46039f"
             ],
             [
              0.2222222222222222,
              "#7201a8"
             ],
             [
              0.3333333333333333,
              "#9c179e"
             ],
             [
              0.4444444444444444,
              "#bd3786"
             ],
             [
              0.5555555555555556,
              "#d8576b"
             ],
             [
              0.6666666666666666,
              "#ed7953"
             ],
             [
              0.7777777777777778,
              "#fb9f3a"
             ],
             [
              0.8888888888888888,
              "#fdca26"
             ],
             [
              1.0,
              "#f0f921"
             ]
            ]
           }
          ],
          "contourcarpet": [
           {
            "type": "contourcarpet",
            "colorbar": {
             "outlinewidth": 0,
             "ticks": ""
            }
           }
          ],
          "contour": [
           {
            "type": "contour",
            "colorbar": {
             "outlinewidth": 0,
             "ticks": ""
            },
            "colorscale": [
             [
              0.0,
              "#0d0887"
             ],
             [
              0.1111111111111111,
              "#46039f"
             ],
             [
              0.2222222222222222,
              "#7201a8"
             ],
             [
              0.3333333333333333,
              "#9c179e"
             ],
             [
              0.4444444444444444,
              "#bd3786"
             ],
             [
              0.5555555555555556,
              "#d8576b"
             ],
             [
              0.6666666666666666,
              "#ed7953"
             ],
             [
              0.7777777777777778,
              "#fb9f3a"
             ],
             [
              0.8888888888888888,
              "#fdca26"
             ],
             [
              1.0,
              "#f0f921"
             ]
            ]
           }
          ],
          "surface": [
           {
            "type": "surface",
            "colorbar": {
             "outlinewidth": 0,
             "ticks": ""
            },
            "colorscale": [
             [
              0.0,
              "#0d0887"
             ],
             [
              0.1111111111111111,
              "#46039f"
             ],
             [
              0.2222222222222222,
              "#7201a8"
             ],
             [
              0.3333333333333333,
              "#9c179e"
             ],
             [
              0.4444444444444444,
              "#bd3786"
             ],
             [
              0.5555555555555556,
              "#d8576b"
             ],
             [
              0.6666666666666666,
              "#ed7953"
             ],
             [
              0.7777777777777778,
              "#fb9f3a"
             ],
             [
              0.8888888888888888,
              "#fdca26"
             ],
             [
              1.0,
              "#f0f921"
             ]
            ]
           }
          ],
          "mesh3d": [
           {
            "type": "mesh3d",
            "colorbar": {
             "outlinewidth": 0,
             "ticks": ""
            }
           }
          ],
          "scatter": [
           {
            "fillpattern": {
             "fillmode": "overlay",
             "size": 10,
             "solidity": 0.2
            },
            "type": "scatter"
           }
          ],
          "parcoords": [
           {
            "type": "parcoords",
            "line": {
             "colorbar": {
              "outlinewidth": 0,
              "ticks": ""
             }
            }
           }
          ],
          "scatterpolargl": [
           {
            "type": "scatterpolargl",
            "marker": {
             "colorbar": {
              "outlinewidth": 0,
              "ticks": ""
             }
            }
           }
          ],
          "bar": [
           {
            "error_x": {
             "color": "#2a3f5f"
            },
            "error_y": {
             "color": "#2a3f5f"
            },
            "marker": {
             "line": {
              "color": "white",
              "width": 0.5
             },
             "pattern": {
              "fillmode": "overlay",
              "size": 10,
              "solidity": 0.2
             }
            },
            "type": "bar"
           }
          ],
          "scattergeo": [
           {
            "type": "scattergeo",
            "marker": {
             "colorbar": {
              "outlinewidth": 0,
              "ticks": ""
             }
            }
           }
          ],
          "scatterpolar": [
           {
            "type": "scatterpolar",
            "marker": {
             "colorbar": {
              "outlinewidth": 0,
              "ticks": ""
             }
            }
           }
          ],
          "histogram": [
           {
            "marker": {
             "pattern": {
              "fillmode": "overlay",
              "size": 10,
              "solidity": 0.2
             }
            },
            "type": "histogram"
           }
          ],
          "scattergl": [
           {
            "type": "scattergl",
            "marker": {
             "colorbar": {
              "outlinewidth": 0,
              "ticks": ""
             }
            }
           }
          ],
          "scatter3d": [
           {
            "type": "scatter3d",
            "line": {
             "colorbar": {
              "outlinewidth": 0,
              "ticks": ""
             }
            },
            "marker": {
             "colorbar": {
              "outlinewidth": 0,
              "ticks": ""
             }
            }
           }
          ],
          "scattermapbox": [
           {
            "type": "scattermapbox",
            "marker": {
             "colorbar": {
              "outlinewidth": 0,
              "ticks": ""
             }
            }
           }
          ],
          "scatterternary": [
           {
            "type": "scatterternary",
            "marker": {
             "colorbar": {
              "outlinewidth": 0,
              "ticks": ""
             }
            }
           }
          ],
          "scattercarpet": [
           {
            "type": "scattercarpet",
            "marker": {
             "colorbar": {
              "outlinewidth": 0,
              "ticks": ""
             }
            }
           }
          ],
          "carpet": [
           {
            "aaxis": {
             "endlinecolor": "#2a3f5f",
             "gridcolor": "#C8D4E3",
             "linecolor": "#C8D4E3",
             "minorgridcolor": "#C8D4E3",
             "startlinecolor": "#2a3f5f"
            },
            "baxis": {
             "endlinecolor": "#2a3f5f",
             "gridcolor": "#C8D4E3",
             "linecolor": "#C8D4E3",
             "minorgridcolor": "#C8D4E3",
             "startlinecolor": "#2a3f5f"
            },
            "type": "carpet"
           }
          ],
          "table": [
           {
            "cells": {
             "fill": {
              "color": "#EBF0F8"
             },
             "line": {
              "color": "white"
             }
            },
            "header": {
             "fill": {
              "color": "#C8D4E3"
             },
             "line": {
              "color": "white"
             }
            },
            "type": "table"
           }
          ],
          "barpolar": [
           {
            "marker": {
             "line": {
              "color": "white",
              "width": 0.5
             },
             "pattern": {
              "fillmode": "overlay",
              "size": 10,
              "solidity": 0.2
             }
            },
            "type": "barpolar"
           }
          ],
          "pie": [
           {
            "automargin": true,
            "type": "pie"
           }
          ]
         },
         "layout": {
          "autotypenumbers": "strict",
          "colorway": [
           "#636efa",
           "#EF553B",
           "#00cc96",
           "#ab63fa",
           "#FFA15A",
           "#19d3f3",
           "#FF6692",
           "#B6E880",
           "#FF97FF",
           "#FECB52"
          ],
          "font": {
           "color": "#2a3f5f"
          },
          "hovermode": "closest",
          "hoverlabel": {
           "align": "left"
          },
          "paper_bgcolor": "white",
          "plot_bgcolor": "white",
          "polar": {
           "bgcolor": "white",
           "angularaxis": {
            "gridcolor": "#EBF0F8",
            "linecolor": "#EBF0F8",
            "ticks": ""
           },
           "radialaxis": {
            "gridcolor": "#EBF0F8",
            "linecolor": "#EBF0F8",
            "ticks": ""
           }
          },
          "ternary": {
           "bgcolor": "white",
           "aaxis": {
            "gridcolor": "#DFE8F3",
            "linecolor": "#A2B1C6",
            "ticks": ""
           },
           "baxis": {
            "gridcolor": "#DFE8F3",
            "linecolor": "#A2B1C6",
            "ticks": ""
           },
           "caxis": {
            "gridcolor": "#DFE8F3",
            "linecolor": "#A2B1C6",
            "ticks": ""
           }
          },
          "coloraxis": {
           "colorbar": {
            "outlinewidth": 0,
            "ticks": ""
           }
          },
          "colorscale": {
           "sequential": [
            [
             0.0,
             "#0d0887"
            ],
            [
             0.1111111111111111,
             "#46039f"
            ],
            [
             0.2222222222222222,
             "#7201a8"
            ],
            [
             0.3333333333333333,
             "#9c179e"
            ],
            [
             0.4444444444444444,
             "#bd3786"
            ],
            [
             0.5555555555555556,
             "#d8576b"
            ],
            [
             0.6666666666666666,
             "#ed7953"
            ],
            [
             0.7777777777777778,
             "#fb9f3a"
            ],
            [
             0.8888888888888888,
             "#fdca26"
            ],
            [
             1.0,
             "#f0f921"
            ]
           ],
           "sequentialminus": [
            [
             0.0,
             "#0d0887"
            ],
            [
             0.1111111111111111,
             "#46039f"
            ],
            [
             0.2222222222222222,
             "#7201a8"
            ],
            [
             0.3333333333333333,
             "#9c179e"
            ],
            [
             0.4444444444444444,
             "#bd3786"
            ],
            [
             0.5555555555555556,
             "#d8576b"
            ],
            [
             0.6666666666666666,
             "#ed7953"
            ],
            [
             0.7777777777777778,
             "#fb9f3a"
            ],
            [
             0.8888888888888888,
             "#fdca26"
            ],
            [
             1.0,
             "#f0f921"
            ]
           ],
           "diverging": [
            [
             0,
             "#8e0152"
            ],
            [
             0.1,
             "#c51b7d"
            ],
            [
             0.2,
             "#de77ae"
            ],
            [
             0.3,
             "#f1b6da"
            ],
            [
             0.4,
             "#fde0ef"
            ],
            [
             0.5,
             "#f7f7f7"
            ],
            [
             0.6,
             "#e6f5d0"
            ],
            [
             0.7,
             "#b8e186"
            ],
            [
             0.8,
             "#7fbc41"
            ],
            [
             0.9,
             "#4d9221"
            ],
            [
             1,
             "#276419"
            ]
           ]
          },
          "xaxis": {
           "gridcolor": "#EBF0F8",
           "linecolor": "#EBF0F8",
           "ticks": "",
           "title": {
            "standoff": 15
           },
           "zerolinecolor": "#EBF0F8",
           "automargin": true,
           "zerolinewidth": 2
          },
          "yaxis": {
           "gridcolor": "#EBF0F8",
           "linecolor": "#EBF0F8",
           "ticks": "",
           "title": {
            "standoff": 15
           },
           "zerolinecolor": "#EBF0F8",
           "automargin": true,
           "zerolinewidth": 2
          },
          "scene": {
           "xaxis": {
            "backgroundcolor": "white",
            "gridcolor": "#DFE8F3",
            "linecolor": "#EBF0F8",
            "showbackground": true,
            "ticks": "",
            "zerolinecolor": "#EBF0F8",
            "gridwidth": 2
           },
           "yaxis": {
            "backgroundcolor": "white",
            "gridcolor": "#DFE8F3",
            "linecolor": "#EBF0F8",
            "showbackground": true,
            "ticks": "",
            "zerolinecolor": "#EBF0F8",
            "gridwidth": 2
           },
           "zaxis": {
            "backgroundcolor": "white",
            "gridcolor": "#DFE8F3",
            "linecolor": "#EBF0F8",
            "showbackground": true,
            "ticks": "",
            "zerolinecolor": "#EBF0F8",
            "gridwidth": 2
           }
          },
          "shapedefaults": {
           "line": {
            "color": "#2a3f5f"
           }
          },
          "annotationdefaults": {
           "arrowcolor": "#2a3f5f",
           "arrowhead": 0,
           "arrowwidth": 1
          },
          "geo": {
           "bgcolor": "white",
           "landcolor": "white",
           "subunitcolor": "#C8D4E3",
           "showland": true,
           "showlakes": true,
           "lakecolor": "white"
          },
          "title": {
           "x": 0.05
          },
          "mapbox": {
           "style": "light"
          }
         }
        },
        "xaxis": {
         "anchor": "y",
         "domain": [
          0.0,
          1.0
         ],
         "title": {
          "text": "Number of Impressions"
         }
        },
        "yaxis": {
         "anchor": "x",
         "domain": [
          0.0,
          1.0
         ],
         "title": {
          "text": "Amount Spent"
         }
        },
        "legend": {
         "title": {
          "text": "Campaign Name"
         },
         "tracegroupgap": 0,
         "itemsizing": "constant"
        },
        "margin": {
         "t": 60
        }
       },
       "config": {
        "plotlyServerURL": "https://plot.ly"
       }
      },
      "text/html": "<div>                            <div id=\"dce0a984-b8f2-48ff-9610-e8627753add1\" class=\"plotly-graph-div\" style=\"height:525px; width:100%;\"></div>            <script type=\"text/javascript\">                require([\"plotly\"], function(Plotly) {                    window.PLOTLYENV=window.PLOTLYENV || {};                                    if (document.getElementById(\"dce0a984-b8f2-48ff-9610-e8627753add1\")) {                    Plotly.newPlot(                        \"dce0a984-b8f2-48ff-9610-e8627753add1\",                        [{\"hovertemplate\":\"Campaign Name=Test Campaign<br>Number of Impressions=%{x}<br>Amount Spent=%{marker.size}<extra></extra>\",\"legendgroup\":\"Test Campaign\",\"marker\":{\"color\":\"#636efa\",\"size\":[3008,2790,2420,2831,1972,2537,2516,3076,1968,1979,2626,2542,2712,3112,2899,2407,2078,2928,2311,2915,2247,2805,2365,1977,2710,2297,2458,2838,2916,2652],\"sizemode\":\"area\",\"sizeref\":7.78,\"symbol\":\"circle\"},\"mode\":\"markers\",\"name\":\"Test Campaign\",\"orientation\":\"v\",\"showlegend\":true,\"x\":[39550.0,95054.0,83633.0,124591.0,65827.0,56304.0,94338.0,106584.0,95843.0,53632.0,22521.0,100719.0,39470.0,133771.0,34752.0,60286.0,36650.0,120576.0,80841.0,111469.0,54627.0,67444.0,70263.0,120203.0,78451.0,114295.0,42684.0,53986.0,33669.0,45511.0],\"xaxis\":\"x\",\"y\":[3008,2790,2420,2831,1972,2537,2516,3076,1968,1979,2626,2542,2712,3112,2899,2407,2078,2928,2311,2915,2247,2805,2365,1977,2710,2297,2458,2838,2916,2652],\"yaxis\":\"y\",\"type\":\"scatter\"},{\"hovertemplate\":\"<b>OLS trendline</b><br>Amount Spent = 0.00100671 * Number of Impressions + 2487.98<br>R<sup>2</sup>=0.008600<br><br>Campaign Name=Test Campaign<br>Number of Impressions=%{x}<br>Amount Spent=%{y} <b>(trend)</b><extra></extra>\",\"legendgroup\":\"Test Campaign\",\"marker\":{\"color\":\"#636efa\",\"symbol\":\"circle\"},\"mode\":\"lines\",\"name\":\"Test Campaign\",\"showlegend\":false,\"x\":[22521.0,33669.0,34752.0,36650.0,39470.0,39550.0,42684.0,45511.0,53632.0,53986.0,54627.0,56304.0,60286.0,65827.0,67444.0,70263.0,78451.0,80841.0,83633.0,94338.0,95054.0,95843.0,100719.0,106584.0,111469.0,114295.0,120203.0,120576.0,124591.0,133771.0],\"xaxis\":\"x\",\"y\":[2510.6536698946106,2521.876440572412,2522.96670435462,2524.8774344179915,2527.7163484215257,2527.7968849890017,2530.9519050198796,2533.797865973068,2541.9733342789905,2542.329708590072,2542.975007836975,2544.6632556326936,2548.6719632788186,2554.2501272836353,2555.877972653747,2558.7158799501876,2566.958797631371,2569.364827584721,2572.1755537896383,2582.95235322504,2583.673155503952,2584.467447400685,2589.3761511883563,2595.280488291451,2600.198252442963,2603.043206689058,2608.9908321971716,2609.366333943029,2613.408262923238,2622.649834041126],\"yaxis\":\"y\",\"type\":\"scatter\"},{\"hovertemplate\":\"Campaign Name=Control Campaign<br>Number of Impressions=%{x}<br>Amount Spent=%{marker.size}<extra></extra>\",\"legendgroup\":\"Control Campaign\",\"marker\":{\"color\":\"#EF553B\",\"size\":[2280,2149,2490,2319,2697,1875,2774,2024,2177,1876,2596,1757,2675,1803,2939,2496,1892,1962,2233,2061,2421,2375,2343,2324,1940,1835,3083,2544,1900,2813],\"sizemode\":\"area\",\"sizeref\":7.78,\"symbol\":\"circle\"},\"mode\":\"markers\",\"name\":\"Control Campaign\",\"orientation\":\"v\",\"showlegend\":true,\"x\":[82702.0,117624.0,115247.0,116639.0,82847.0,145248.0,132845.0,71274.0,119612.0,108452.0,107890.0,121040.0,113430.0,74654.0,105705.0,129880.0,72515.0,117006.0,124897.0,104678.0,141654.0,92029.0,131711.0,111306.0,72878.0,109559.75862068965,109076.0,142123.0,90939.0,121332.0],\"xaxis\":\"x\",\"y\":[2280,2149,2490,2319,2697,1875,2774,2024,2177,1876,2596,1757,2675,1803,2939,2496,1892,1962,2233,2061,2421,2375,2343,2324,1940,1835,3083,2544,1900,2813],\"yaxis\":\"y\",\"type\":\"scatter\"},{\"hovertemplate\":\"<b>OLS trendline</b><br>Amount Spent = 0.00453629 * Number of Impressions + 1791.44<br>R<sup>2</sup>=0.069265<br><br>Campaign Name=Control Campaign<br>Number of Impressions=%{x}<br>Amount Spent=%{y} <b>(trend)</b><extra></extra>\",\"legendgroup\":\"Control Campaign\",\"marker\":{\"color\":\"#EF553B\",\"symbol\":\"circle\"},\"mode\":\"lines\",\"name\":\"Control Campaign\",\"showlegend\":false,\"x\":[71274.0,72515.0,72878.0,74654.0,82702.0,82847.0,90939.0,92029.0,104678.0,105705.0,107890.0,108452.0,109076.0,109559.75862068965,111306.0,113430.0,115247.0,116639.0,117006.0,117624.0,119612.0,121040.0,121332.0,124897.0,129880.0,131711.0,132845.0,141654.0,142123.0,145248.0],\"xaxis\":\"x\",\"y\":[2114.7579636191645,2120.3875016400934,2122.034175533403,2130.090629622984,2166.598705362256,2167.2564676612365,2203.9641402360617,2208.9086982077074,2266.2882521373863,2270.947023730854,2280.858821132732,2283.4082170777456,2286.23886310922,2288.4333333333334,2296.3547936383675,2305.9898772455012,2314.2323192954836,2320.546837365696,2322.2116564258736,2325.0150847070454,2334.033232640653,2340.511057212681,2341.835654394076,2358.00753436556,2380.6118759919013,2388.917826125923,2394.0619809331215,2434.022174669112,2436.1496954844347,2450.325607100392],\"yaxis\":\"y\",\"type\":\"scatter\"}],                        {\"template\":{\"data\":{\"histogram2dcontour\":[{\"type\":\"histogram2dcontour\",\"colorbar\":{\"outlinewidth\":0,\"ticks\":\"\"},\"colorscale\":[[0.0,\"#0d0887\"],[0.1111111111111111,\"#46039f\"],[0.2222222222222222,\"#7201a8\"],[0.3333333333333333,\"#9c179e\"],[0.4444444444444444,\"#bd3786\"],[0.5555555555555556,\"#d8576b\"],[0.6666666666666666,\"#ed7953\"],[0.7777777777777778,\"#fb9f3a\"],[0.8888888888888888,\"#fdca26\"],[1.0,\"#f0f921\"]]}],\"choropleth\":[{\"type\":\"choropleth\",\"colorbar\":{\"outlinewidth\":0,\"ticks\":\"\"}}],\"histogram2d\":[{\"type\":\"histogram2d\",\"colorbar\":{\"outlinewidth\":0,\"ticks\":\"\"},\"colorscale\":[[0.0,\"#0d0887\"],[0.1111111111111111,\"#46039f\"],[0.2222222222222222,\"#7201a8\"],[0.3333333333333333,\"#9c179e\"],[0.4444444444444444,\"#bd3786\"],[0.5555555555555556,\"#d8576b\"],[0.6666666666666666,\"#ed7953\"],[0.7777777777777778,\"#fb9f3a\"],[0.8888888888888888,\"#fdca26\"],[1.0,\"#f0f921\"]]}],\"heatmap\":[{\"type\":\"heatmap\",\"colorbar\":{\"outlinewidth\":0,\"ticks\":\"\"},\"colorscale\":[[0.0,\"#0d0887\"],[0.1111111111111111,\"#46039f\"],[0.2222222222222222,\"#7201a8\"],[0.3333333333333333,\"#9c179e\"],[0.4444444444444444,\"#bd3786\"],[0.5555555555555556,\"#d8576b\"],[0.6666666666666666,\"#ed7953\"],[0.7777777777777778,\"#fb9f3a\"],[0.8888888888888888,\"#fdca26\"],[1.0,\"#f0f921\"]]}],\"heatmapgl\":[{\"type\":\"heatmapgl\",\"colorbar\":{\"outlinewidth\":0,\"ticks\":\"\"},\"colorscale\":[[0.0,\"#0d0887\"],[0.1111111111111111,\"#46039f\"],[0.2222222222222222,\"#7201a8\"],[0.3333333333333333,\"#9c179e\"],[0.4444444444444444,\"#bd3786\"],[0.5555555555555556,\"#d8576b\"],[0.6666666666666666,\"#ed7953\"],[0.7777777777777778,\"#fb9f3a\"],[0.8888888888888888,\"#fdca26\"],[1.0,\"#f0f921\"]]}],\"contourcarpet\":[{\"type\":\"contourcarpet\",\"colorbar\":{\"outlinewidth\":0,\"ticks\":\"\"}}],\"contour\":[{\"type\":\"contour\",\"colorbar\":{\"outlinewidth\":0,\"ticks\":\"\"},\"colorscale\":[[0.0,\"#0d0887\"],[0.1111111111111111,\"#46039f\"],[0.2222222222222222,\"#7201a8\"],[0.3333333333333333,\"#9c179e\"],[0.4444444444444444,\"#bd3786\"],[0.5555555555555556,\"#d8576b\"],[0.6666666666666666,\"#ed7953\"],[0.7777777777777778,\"#fb9f3a\"],[0.8888888888888888,\"#fdca26\"],[1.0,\"#f0f921\"]]}],\"surface\":[{\"type\":\"surface\",\"colorbar\":{\"outlinewidth\":0,\"ticks\":\"\"},\"colorscale\":[[0.0,\"#0d0887\"],[0.1111111111111111,\"#46039f\"],[0.2222222222222222,\"#7201a8\"],[0.3333333333333333,\"#9c179e\"],[0.4444444444444444,\"#bd3786\"],[0.5555555555555556,\"#d8576b\"],[0.6666666666666666,\"#ed7953\"],[0.7777777777777778,\"#fb9f3a\"],[0.8888888888888888,\"#fdca26\"],[1.0,\"#f0f921\"]]}],\"mesh3d\":[{\"type\":\"mesh3d\",\"colorbar\":{\"outlinewidth\":0,\"ticks\":\"\"}}],\"scatter\":[{\"fillpattern\":{\"fillmode\":\"overlay\",\"size\":10,\"solidity\":0.2},\"type\":\"scatter\"}],\"parcoords\":[{\"type\":\"parcoords\",\"line\":{\"colorbar\":{\"outlinewidth\":0,\"ticks\":\"\"}}}],\"scatterpolargl\":[{\"type\":\"scatterpolargl\",\"marker\":{\"colorbar\":{\"outlinewidth\":0,\"ticks\":\"\"}}}],\"bar\":[{\"error_x\":{\"color\":\"#2a3f5f\"},\"error_y\":{\"color\":\"#2a3f5f\"},\"marker\":{\"line\":{\"color\":\"white\",\"width\":0.5},\"pattern\":{\"fillmode\":\"overlay\",\"size\":10,\"solidity\":0.2}},\"type\":\"bar\"}],\"scattergeo\":[{\"type\":\"scattergeo\",\"marker\":{\"colorbar\":{\"outlinewidth\":0,\"ticks\":\"\"}}}],\"scatterpolar\":[{\"type\":\"scatterpolar\",\"marker\":{\"colorbar\":{\"outlinewidth\":0,\"ticks\":\"\"}}}],\"histogram\":[{\"marker\":{\"pattern\":{\"fillmode\":\"overlay\",\"size\":10,\"solidity\":0.2}},\"type\":\"histogram\"}],\"scattergl\":[{\"type\":\"scattergl\",\"marker\":{\"colorbar\":{\"outlinewidth\":0,\"ticks\":\"\"}}}],\"scatter3d\":[{\"type\":\"scatter3d\",\"line\":{\"colorbar\":{\"outlinewidth\":0,\"ticks\":\"\"}},\"marker\":{\"colorbar\":{\"outlinewidth\":0,\"ticks\":\"\"}}}],\"scattermapbox\":[{\"type\":\"scattermapbox\",\"marker\":{\"colorbar\":{\"outlinewidth\":0,\"ticks\":\"\"}}}],\"scatterternary\":[{\"type\":\"scatterternary\",\"marker\":{\"colorbar\":{\"outlinewidth\":0,\"ticks\":\"\"}}}],\"scattercarpet\":[{\"type\":\"scattercarpet\",\"marker\":{\"colorbar\":{\"outlinewidth\":0,\"ticks\":\"\"}}}],\"carpet\":[{\"aaxis\":{\"endlinecolor\":\"#2a3f5f\",\"gridcolor\":\"#C8D4E3\",\"linecolor\":\"#C8D4E3\",\"minorgridcolor\":\"#C8D4E3\",\"startlinecolor\":\"#2a3f5f\"},\"baxis\":{\"endlinecolor\":\"#2a3f5f\",\"gridcolor\":\"#C8D4E3\",\"linecolor\":\"#C8D4E3\",\"minorgridcolor\":\"#C8D4E3\",\"startlinecolor\":\"#2a3f5f\"},\"type\":\"carpet\"}],\"table\":[{\"cells\":{\"fill\":{\"color\":\"#EBF0F8\"},\"line\":{\"color\":\"white\"}},\"header\":{\"fill\":{\"color\":\"#C8D4E3\"},\"line\":{\"color\":\"white\"}},\"type\":\"table\"}],\"barpolar\":[{\"marker\":{\"line\":{\"color\":\"white\",\"width\":0.5},\"pattern\":{\"fillmode\":\"overlay\",\"size\":10,\"solidity\":0.2}},\"type\":\"barpolar\"}],\"pie\":[{\"automargin\":true,\"type\":\"pie\"}]},\"layout\":{\"autotypenumbers\":\"strict\",\"colorway\":[\"#636efa\",\"#EF553B\",\"#00cc96\",\"#ab63fa\",\"#FFA15A\",\"#19d3f3\",\"#FF6692\",\"#B6E880\",\"#FF97FF\",\"#FECB52\"],\"font\":{\"color\":\"#2a3f5f\"},\"hovermode\":\"closest\",\"hoverlabel\":{\"align\":\"left\"},\"paper_bgcolor\":\"white\",\"plot_bgcolor\":\"white\",\"polar\":{\"bgcolor\":\"white\",\"angularaxis\":{\"gridcolor\":\"#EBF0F8\",\"linecolor\":\"#EBF0F8\",\"ticks\":\"\"},\"radialaxis\":{\"gridcolor\":\"#EBF0F8\",\"linecolor\":\"#EBF0F8\",\"ticks\":\"\"}},\"ternary\":{\"bgcolor\":\"white\",\"aaxis\":{\"gridcolor\":\"#DFE8F3\",\"linecolor\":\"#A2B1C6\",\"ticks\":\"\"},\"baxis\":{\"gridcolor\":\"#DFE8F3\",\"linecolor\":\"#A2B1C6\",\"ticks\":\"\"},\"caxis\":{\"gridcolor\":\"#DFE8F3\",\"linecolor\":\"#A2B1C6\",\"ticks\":\"\"}},\"coloraxis\":{\"colorbar\":{\"outlinewidth\":0,\"ticks\":\"\"}},\"colorscale\":{\"sequential\":[[0.0,\"#0d0887\"],[0.1111111111111111,\"#46039f\"],[0.2222222222222222,\"#7201a8\"],[0.3333333333333333,\"#9c179e\"],[0.4444444444444444,\"#bd3786\"],[0.5555555555555556,\"#d8576b\"],[0.6666666666666666,\"#ed7953\"],[0.7777777777777778,\"#fb9f3a\"],[0.8888888888888888,\"#fdca26\"],[1.0,\"#f0f921\"]],\"sequentialminus\":[[0.0,\"#0d0887\"],[0.1111111111111111,\"#46039f\"],[0.2222222222222222,\"#7201a8\"],[0.3333333333333333,\"#9c179e\"],[0.4444444444444444,\"#bd3786\"],[0.5555555555555556,\"#d8576b\"],[0.6666666666666666,\"#ed7953\"],[0.7777777777777778,\"#fb9f3a\"],[0.8888888888888888,\"#fdca26\"],[1.0,\"#f0f921\"]],\"diverging\":[[0,\"#8e0152\"],[0.1,\"#c51b7d\"],[0.2,\"#de77ae\"],[0.3,\"#f1b6da\"],[0.4,\"#fde0ef\"],[0.5,\"#f7f7f7\"],[0.6,\"#e6f5d0\"],[0.7,\"#b8e186\"],[0.8,\"#7fbc41\"],[0.9,\"#4d9221\"],[1,\"#276419\"]]},\"xaxis\":{\"gridcolor\":\"#EBF0F8\",\"linecolor\":\"#EBF0F8\",\"ticks\":\"\",\"title\":{\"standoff\":15},\"zerolinecolor\":\"#EBF0F8\",\"automargin\":true,\"zerolinewidth\":2},\"yaxis\":{\"gridcolor\":\"#EBF0F8\",\"linecolor\":\"#EBF0F8\",\"ticks\":\"\",\"title\":{\"standoff\":15},\"zerolinecolor\":\"#EBF0F8\",\"automargin\":true,\"zerolinewidth\":2},\"scene\":{\"xaxis\":{\"backgroundcolor\":\"white\",\"gridcolor\":\"#DFE8F3\",\"linecolor\":\"#EBF0F8\",\"showbackground\":true,\"ticks\":\"\",\"zerolinecolor\":\"#EBF0F8\",\"gridwidth\":2},\"yaxis\":{\"backgroundcolor\":\"white\",\"gridcolor\":\"#DFE8F3\",\"linecolor\":\"#EBF0F8\",\"showbackground\":true,\"ticks\":\"\",\"zerolinecolor\":\"#EBF0F8\",\"gridwidth\":2},\"zaxis\":{\"backgroundcolor\":\"white\",\"gridcolor\":\"#DFE8F3\",\"linecolor\":\"#EBF0F8\",\"showbackground\":true,\"ticks\":\"\",\"zerolinecolor\":\"#EBF0F8\",\"gridwidth\":2}},\"shapedefaults\":{\"line\":{\"color\":\"#2a3f5f\"}},\"annotationdefaults\":{\"arrowcolor\":\"#2a3f5f\",\"arrowhead\":0,\"arrowwidth\":1},\"geo\":{\"bgcolor\":\"white\",\"landcolor\":\"white\",\"subunitcolor\":\"#C8D4E3\",\"showland\":true,\"showlakes\":true,\"lakecolor\":\"white\"},\"title\":{\"x\":0.05},\"mapbox\":{\"style\":\"light\"}}},\"xaxis\":{\"anchor\":\"y\",\"domain\":[0.0,1.0],\"title\":{\"text\":\"Number of Impressions\"}},\"yaxis\":{\"anchor\":\"x\",\"domain\":[0.0,1.0],\"title\":{\"text\":\"Amount Spent\"}},\"legend\":{\"title\":{\"text\":\"Campaign Name\"},\"tracegroupgap\":0,\"itemsizing\":\"constant\"},\"margin\":{\"t\":60}},                        {\"responsive\": true}                    ).then(function(){\n                            \nvar gd = document.getElementById('dce0a984-b8f2-48ff-9610-e8627753add1');\nvar x = new MutationObserver(function (mutations, observer) {{\n        var display = window.getComputedStyle(gd).display;\n        if (!display || display === 'none') {{\n            console.log([gd, 'removed!']);\n            Plotly.purge(gd);\n            observer.disconnect();\n        }}\n}});\n\n// Listen for the removal of the full notebook cells\nvar notebookContainer = gd.closest('#notebook-container');\nif (notebookContainer) {{\n    x.observe(notebookContainer, {childList: true});\n}}\n\n// Listen for the clearing of the current output cell\nvar outputEl = gd.closest('.output');\nif (outputEl) {{\n    x.observe(outputEl, {childList: true});\n}}\n\n                        })                };                });            </script>        </div>"
     },
     "metadata": {},
     "output_type": "display_data"
    }
   ],
   "source": [
    "figure = px.scatter(data_frame = ab,\n",
    "                    x = \"Number of Impressions\",\n",
    "                    y = \"Amount Spent\",\n",
    "                    size = \"Amount Spent\",\n",
    "                    color = \"Campaign Name\",\n",
    "                    trendline=\"ols\"\n",
    "                    )\n",
    "figure.show()"
   ],
   "metadata": {
    "collapsed": false
   }
  },
  {
   "cell_type": "code",
   "execution_count": null,
   "outputs": [],
   "source": [],
   "metadata": {
    "collapsed": false,
    "pycharm": {
     "is_executing": true
    }
   }
  },
  {
   "cell_type": "code",
   "execution_count": null,
   "outputs": [],
   "source": [],
   "metadata": {
    "collapsed": false
   }
  }
 ],
 "metadata": {
  "kernelspec": {
   "display_name": "Python 3",
   "language": "python",
   "name": "python3"
  },
  "language_info": {
   "codemirror_mode": {
    "name": "ipython",
    "version": 2
   },
   "file_extension": ".py",
   "mimetype": "text/x-python",
   "name": "python",
   "nbconvert_exporter": "python",
   "pygments_lexer": "ipython2",
   "version": "2.7.6"
  }
 },
 "nbformat": 4,
 "nbformat_minor": 0
}
